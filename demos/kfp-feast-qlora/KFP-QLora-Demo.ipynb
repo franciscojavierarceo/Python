{
 "cells": [
  {
   "cell_type": "code",
   "execution_count": 1,
   "id": "1fe97dab-7f32-4a3f-81fd-7b91a153c0d4",
   "metadata": {
    "scrolled": true
   },
   "outputs": [
    {
     "name": "stdout",
     "output_type": "stream",
     "text": [
      "Requirement already satisfied: feast==0.38 in /Users/farceo/dev/Python/demos/feast_odfv_profiling/venv/lib/python3.12/site-packages (0.38.0)\n",
      "Requirement already satisfied: click<9.0.0,>=7.0.0 in /Users/farceo/dev/Python/demos/feast_odfv_profiling/venv/lib/python3.12/site-packages (from feast==0.38) (8.1.7)\n",
      "Requirement already satisfied: colorama<1,>=0.3.9 in /Users/farceo/dev/Python/demos/feast_odfv_profiling/venv/lib/python3.12/site-packages (from feast==0.38) (0.4.6)\n",
      "Requirement already satisfied: dill~=0.3.0 in /Users/farceo/dev/Python/demos/feast_odfv_profiling/venv/lib/python3.12/site-packages (from feast==0.38) (0.3.8)\n",
      "Requirement already satisfied: mypy-protobuf>=3.1 in /Users/farceo/dev/Python/demos/feast_odfv_profiling/venv/lib/python3.12/site-packages (from feast==0.38) (3.6.0)\n",
      "Requirement already satisfied: Jinja2<4,>=2 in /Users/farceo/dev/Python/demos/feast_odfv_profiling/venv/lib/python3.12/site-packages (from feast==0.38) (3.1.4)\n",
      "Requirement already satisfied: jsonschema in /Users/farceo/dev/Python/demos/feast_odfv_profiling/venv/lib/python3.12/site-packages (from feast==0.38) (4.22.0)\n",
      "Requirement already satisfied: mmh3 in /Users/farceo/dev/Python/demos/feast_odfv_profiling/venv/lib/python3.12/site-packages (from feast==0.38) (4.1.0)\n",
      "Requirement already satisfied: numpy<2,>=1.22 in /Users/farceo/dev/Python/demos/feast_odfv_profiling/venv/lib/python3.12/site-packages (from feast==0.38) (1.26.4)\n",
      "Requirement already satisfied: pandas<3,>=1.4.3 in /Users/farceo/dev/Python/demos/feast_odfv_profiling/venv/lib/python3.12/site-packages (from feast==0.38) (2.2.2)\n",
      "Requirement already satisfied: protobuf<5.0.0,>=4.24.0 in /Users/farceo/dev/Python/demos/feast_odfv_profiling/venv/lib/python3.12/site-packages (from feast==0.38) (4.25.3)\n",
      "Requirement already satisfied: pyarrow>=4 in /Users/farceo/dev/Python/demos/feast_odfv_profiling/venv/lib/python3.12/site-packages (from feast==0.38) (16.1.0)\n",
      "Requirement already satisfied: pydantic>=2.0.0 in /Users/farceo/dev/Python/demos/feast_odfv_profiling/venv/lib/python3.12/site-packages (from feast==0.38) (2.7.3)\n",
      "Requirement already satisfied: pygments<3,>=2.12.0 in /Users/farceo/dev/Python/demos/feast_odfv_profiling/venv/lib/python3.12/site-packages (from feast==0.38) (2.18.0)\n",
      "Requirement already satisfied: PyYAML<7,>=5.4.0 in /Users/farceo/dev/Python/demos/feast_odfv_profiling/venv/lib/python3.12/site-packages (from feast==0.38) (6.0.1)\n",
      "Requirement already satisfied: requests in /Users/farceo/dev/Python/demos/feast_odfv_profiling/venv/lib/python3.12/site-packages (from feast==0.38) (2.32.3)\n",
      "Requirement already satisfied: SQLAlchemy>1 in /Users/farceo/dev/Python/demos/feast_odfv_profiling/venv/lib/python3.12/site-packages (from SQLAlchemy[mypy]>1->feast==0.38) (2.0.30)\n",
      "Requirement already satisfied: tabulate<1,>=0.8.0 in /Users/farceo/dev/Python/demos/feast_odfv_profiling/venv/lib/python3.12/site-packages (from feast==0.38) (0.9.0)\n",
      "Requirement already satisfied: tenacity<9,>=7 in /Users/farceo/dev/Python/demos/feast_odfv_profiling/venv/lib/python3.12/site-packages (from feast==0.38) (8.3.0)\n",
      "Requirement already satisfied: toml<1,>=0.10.0 in /Users/farceo/dev/Python/demos/feast_odfv_profiling/venv/lib/python3.12/site-packages (from feast==0.38) (0.10.2)\n",
      "Requirement already satisfied: tqdm<5,>=4 in /Users/farceo/dev/Python/demos/feast_odfv_profiling/venv/lib/python3.12/site-packages (from feast==0.38) (4.66.4)\n",
      "Requirement already satisfied: typeguard>=4.0.0 in /Users/farceo/dev/Python/demos/feast_odfv_profiling/venv/lib/python3.12/site-packages (from feast==0.38) (4.3.0)\n",
      "Requirement already satisfied: fastapi>=0.68.0 in /Users/farceo/dev/Python/demos/feast_odfv_profiling/venv/lib/python3.12/site-packages (from feast==0.38) (0.111.0)\n",
      "Requirement already satisfied: uvicorn<1,>=0.14.0 in /Users/farceo/dev/Python/demos/feast_odfv_profiling/venv/lib/python3.12/site-packages (from uvicorn[standard]<1,>=0.14.0->feast==0.38) (0.30.1)\n",
      "Requirement already satisfied: dask>=2024.4.2 in /Users/farceo/dev/Python/demos/feast_odfv_profiling/venv/lib/python3.12/site-packages (from dask[dataframe]>=2024.4.2->feast==0.38) (2024.5.2)\n",
      "Requirement already satisfied: gunicorn in /Users/farceo/dev/Python/demos/feast_odfv_profiling/venv/lib/python3.12/site-packages (from feast==0.38) (22.0.0)\n",
      "Requirement already satisfied: cloudpickle>=1.5.0 in /Users/farceo/dev/Python/demos/feast_odfv_profiling/venv/lib/python3.12/site-packages (from dask>=2024.4.2->dask[dataframe]>=2024.4.2->feast==0.38) (3.0.0)\n",
      "Requirement already satisfied: fsspec>=2021.09.0 in /Users/farceo/dev/Python/demos/feast_odfv_profiling/venv/lib/python3.12/site-packages (from dask>=2024.4.2->dask[dataframe]>=2024.4.2->feast==0.38) (2024.6.0)\n",
      "Requirement already satisfied: packaging>=20.0 in /Users/farceo/dev/Python/demos/feast_odfv_profiling/venv/lib/python3.12/site-packages (from dask>=2024.4.2->dask[dataframe]>=2024.4.2->feast==0.38) (24.0)\n",
      "Requirement already satisfied: partd>=1.2.0 in /Users/farceo/dev/Python/demos/feast_odfv_profiling/venv/lib/python3.12/site-packages (from dask>=2024.4.2->dask[dataframe]>=2024.4.2->feast==0.38) (1.4.2)\n",
      "Requirement already satisfied: toolz>=0.10.0 in /Users/farceo/dev/Python/demos/feast_odfv_profiling/venv/lib/python3.12/site-packages (from dask>=2024.4.2->dask[dataframe]>=2024.4.2->feast==0.38) (0.12.1)\n",
      "Requirement already satisfied: dask-expr<1.2,>=1.1 in /Users/farceo/dev/Python/demos/feast_odfv_profiling/venv/lib/python3.12/site-packages (from dask[dataframe]>=2024.4.2->feast==0.38) (1.1.2)\n",
      "Requirement already satisfied: starlette<0.38.0,>=0.37.2 in /Users/farceo/dev/Python/demos/feast_odfv_profiling/venv/lib/python3.12/site-packages (from fastapi>=0.68.0->feast==0.38) (0.37.2)\n",
      "Requirement already satisfied: typing-extensions>=4.8.0 in /Users/farceo/dev/Python/demos/feast_odfv_profiling/venv/lib/python3.12/site-packages (from fastapi>=0.68.0->feast==0.38) (4.12.2)\n",
      "Requirement already satisfied: fastapi-cli>=0.0.2 in /Users/farceo/dev/Python/demos/feast_odfv_profiling/venv/lib/python3.12/site-packages (from fastapi>=0.68.0->feast==0.38) (0.0.4)\n",
      "Requirement already satisfied: httpx>=0.23.0 in /Users/farceo/dev/Python/demos/feast_odfv_profiling/venv/lib/python3.12/site-packages (from fastapi>=0.68.0->feast==0.38) (0.27.0)\n",
      "Requirement already satisfied: python-multipart>=0.0.7 in /Users/farceo/dev/Python/demos/feast_odfv_profiling/venv/lib/python3.12/site-packages (from fastapi>=0.68.0->feast==0.38) (0.0.9)\n",
      "Requirement already satisfied: ujson!=4.0.2,!=4.1.0,!=4.2.0,!=4.3.0,!=5.0.0,!=5.1.0,>=4.0.1 in /Users/farceo/dev/Python/demos/feast_odfv_profiling/venv/lib/python3.12/site-packages (from fastapi>=0.68.0->feast==0.38) (5.10.0)\n",
      "Requirement already satisfied: orjson>=3.2.1 in /Users/farceo/dev/Python/demos/feast_odfv_profiling/venv/lib/python3.12/site-packages (from fastapi>=0.68.0->feast==0.38) (3.10.3)\n",
      "Requirement already satisfied: email_validator>=2.0.0 in /Users/farceo/dev/Python/demos/feast_odfv_profiling/venv/lib/python3.12/site-packages (from fastapi>=0.68.0->feast==0.38) (2.1.1)\n",
      "Requirement already satisfied: MarkupSafe>=2.0 in /Users/farceo/dev/Python/demos/feast_odfv_profiling/venv/lib/python3.12/site-packages (from Jinja2<4,>=2->feast==0.38) (2.1.5)\n",
      "Requirement already satisfied: types-protobuf>=4.24 in /Users/farceo/dev/Python/demos/feast_odfv_profiling/venv/lib/python3.12/site-packages (from mypy-protobuf>=3.1->feast==0.38) (5.26.0.20240422)\n",
      "Requirement already satisfied: python-dateutil>=2.8.2 in /Users/farceo/dev/Python/demos/feast_odfv_profiling/venv/lib/python3.12/site-packages (from pandas<3,>=1.4.3->feast==0.38) (2.9.0.post0)\n",
      "Requirement already satisfied: pytz>=2020.1 in /Users/farceo/dev/Python/demos/feast_odfv_profiling/venv/lib/python3.12/site-packages (from pandas<3,>=1.4.3->feast==0.38) (2024.1)\n",
      "Requirement already satisfied: tzdata>=2022.7 in /Users/farceo/dev/Python/demos/feast_odfv_profiling/venv/lib/python3.12/site-packages (from pandas<3,>=1.4.3->feast==0.38) (2024.1)\n",
      "Requirement already satisfied: annotated-types>=0.4.0 in /Users/farceo/dev/Python/demos/feast_odfv_profiling/venv/lib/python3.12/site-packages (from pydantic>=2.0.0->feast==0.38) (0.7.0)\n",
      "Requirement already satisfied: pydantic-core==2.18.4 in /Users/farceo/dev/Python/demos/feast_odfv_profiling/venv/lib/python3.12/site-packages (from pydantic>=2.0.0->feast==0.38) (2.18.4)\n",
      "Requirement already satisfied: mypy>=0.910 in /Users/farceo/dev/Python/demos/feast_odfv_profiling/venv/lib/python3.12/site-packages (from SQLAlchemy[mypy]>1->feast==0.38) (1.10.0)\n",
      "Requirement already satisfied: h11>=0.8 in /Users/farceo/dev/Python/demos/feast_odfv_profiling/venv/lib/python3.12/site-packages (from uvicorn<1,>=0.14.0->uvicorn[standard]<1,>=0.14.0->feast==0.38) (0.14.0)\n",
      "Requirement already satisfied: httptools>=0.5.0 in /Users/farceo/dev/Python/demos/feast_odfv_profiling/venv/lib/python3.12/site-packages (from uvicorn[standard]<1,>=0.14.0->feast==0.38) (0.6.1)\n",
      "Requirement already satisfied: python-dotenv>=0.13 in /Users/farceo/dev/Python/demos/feast_odfv_profiling/venv/lib/python3.12/site-packages (from uvicorn[standard]<1,>=0.14.0->feast==0.38) (1.0.1)\n",
      "Requirement already satisfied: uvloop!=0.15.0,!=0.15.1,>=0.14.0 in /Users/farceo/dev/Python/demos/feast_odfv_profiling/venv/lib/python3.12/site-packages (from uvicorn[standard]<1,>=0.14.0->feast==0.38) (0.19.0)\n",
      "Requirement already satisfied: watchfiles>=0.13 in /Users/farceo/dev/Python/demos/feast_odfv_profiling/venv/lib/python3.12/site-packages (from uvicorn[standard]<1,>=0.14.0->feast==0.38) (0.22.0)\n",
      "Requirement already satisfied: websockets>=10.4 in /Users/farceo/dev/Python/demos/feast_odfv_profiling/venv/lib/python3.12/site-packages (from uvicorn[standard]<1,>=0.14.0->feast==0.38) (12.0)\n",
      "Requirement already satisfied: attrs>=22.2.0 in /Users/farceo/dev/Python/demos/feast_odfv_profiling/venv/lib/python3.12/site-packages (from jsonschema->feast==0.38) (23.2.0)\n",
      "Requirement already satisfied: jsonschema-specifications>=2023.03.6 in /Users/farceo/dev/Python/demos/feast_odfv_profiling/venv/lib/python3.12/site-packages (from jsonschema->feast==0.38) (2023.12.1)\n",
      "Requirement already satisfied: referencing>=0.28.4 in /Users/farceo/dev/Python/demos/feast_odfv_profiling/venv/lib/python3.12/site-packages (from jsonschema->feast==0.38) (0.35.1)\n",
      "Requirement already satisfied: rpds-py>=0.7.1 in /Users/farceo/dev/Python/demos/feast_odfv_profiling/venv/lib/python3.12/site-packages (from jsonschema->feast==0.38) (0.18.1)\n",
      "Requirement already satisfied: charset-normalizer<4,>=2 in /Users/farceo/dev/Python/demos/feast_odfv_profiling/venv/lib/python3.12/site-packages (from requests->feast==0.38) (3.3.2)\n",
      "Requirement already satisfied: idna<4,>=2.5 in /Users/farceo/dev/Python/demos/feast_odfv_profiling/venv/lib/python3.12/site-packages (from requests->feast==0.38) (3.7)\n",
      "Requirement already satisfied: urllib3<3,>=1.21.1 in /Users/farceo/dev/Python/demos/feast_odfv_profiling/venv/lib/python3.12/site-packages (from requests->feast==0.38) (2.2.1)\n",
      "Requirement already satisfied: certifi>=2017.4.17 in /Users/farceo/dev/Python/demos/feast_odfv_profiling/venv/lib/python3.12/site-packages (from requests->feast==0.38) (2024.6.2)\n",
      "Requirement already satisfied: dnspython>=2.0.0 in /Users/farceo/dev/Python/demos/feast_odfv_profiling/venv/lib/python3.12/site-packages (from email_validator>=2.0.0->fastapi>=0.68.0->feast==0.38) (2.6.1)\n",
      "Requirement already satisfied: typer>=0.12.3 in /Users/farceo/dev/Python/demos/feast_odfv_profiling/venv/lib/python3.12/site-packages (from fastapi-cli>=0.0.2->fastapi>=0.68.0->feast==0.38) (0.12.3)\n",
      "Requirement already satisfied: anyio in /Users/farceo/dev/Python/demos/feast_odfv_profiling/venv/lib/python3.12/site-packages (from httpx>=0.23.0->fastapi>=0.68.0->feast==0.38) (4.4.0)\n",
      "Requirement already satisfied: httpcore==1.* in /Users/farceo/dev/Python/demos/feast_odfv_profiling/venv/lib/python3.12/site-packages (from httpx>=0.23.0->fastapi>=0.68.0->feast==0.38) (1.0.5)\n",
      "Requirement already satisfied: sniffio in /Users/farceo/dev/Python/demos/feast_odfv_profiling/venv/lib/python3.12/site-packages (from httpx>=0.23.0->fastapi>=0.68.0->feast==0.38) (1.3.1)\n",
      "Requirement already satisfied: mypy-extensions>=1.0.0 in /Users/farceo/dev/Python/demos/feast_odfv_profiling/venv/lib/python3.12/site-packages (from mypy>=0.910->SQLAlchemy[mypy]>1->feast==0.38) (1.0.0)\n",
      "Requirement already satisfied: locket in /Users/farceo/dev/Python/demos/feast_odfv_profiling/venv/lib/python3.12/site-packages (from partd>=1.2.0->dask>=2024.4.2->dask[dataframe]>=2024.4.2->feast==0.38) (1.0.0)\n",
      "Requirement already satisfied: six>=1.5 in /Users/farceo/dev/Python/demos/feast_odfv_profiling/venv/lib/python3.12/site-packages (from python-dateutil>=2.8.2->pandas<3,>=1.4.3->feast==0.38) (1.16.0)\n",
      "Requirement already satisfied: shellingham>=1.3.0 in /Users/farceo/dev/Python/demos/feast_odfv_profiling/venv/lib/python3.12/site-packages (from typer>=0.12.3->fastapi-cli>=0.0.2->fastapi>=0.68.0->feast==0.38) (1.5.4)\n",
      "Requirement already satisfied: rich>=10.11.0 in /Users/farceo/dev/Python/demos/feast_odfv_profiling/venv/lib/python3.12/site-packages (from typer>=0.12.3->fastapi-cli>=0.0.2->fastapi>=0.68.0->feast==0.38) (13.7.1)\n",
      "Requirement already satisfied: markdown-it-py>=2.2.0 in /Users/farceo/dev/Python/demos/feast_odfv_profiling/venv/lib/python3.12/site-packages (from rich>=10.11.0->typer>=0.12.3->fastapi-cli>=0.0.2->fastapi>=0.68.0->feast==0.38) (3.0.0)\n",
      "Requirement already satisfied: mdurl~=0.1 in /Users/farceo/dev/Python/demos/feast_odfv_profiling/venv/lib/python3.12/site-packages (from markdown-it-py>=2.2.0->rich>=10.11.0->typer>=0.12.3->fastapi-cli>=0.0.2->fastapi>=0.68.0->feast==0.38) (0.1.2)\n"
     ]
    }
   ],
   "source": [
    "! pip install feast==0.38"
   ]
  },
  {
   "cell_type": "code",
   "execution_count": 2,
   "id": "eda10dd1-b031-4161-b645-55e8f2d0374c",
   "metadata": {
    "scrolled": true
   },
   "outputs": [
    {
     "name": "stdout",
     "output_type": "stream",
     "text": [
      "Collecting kfp\n",
      "  Downloading kfp-2.7.0.tar.gz (441 kB)\n",
      "\u001b[2K     \u001b[38;2;114;156;31m━━━━━━━━━━━━━━━━━━━━━━━━━━━━━━━━━━━━━━━\u001b[0m \u001b[32m441.8/441.8 kB\u001b[0m \u001b[31m4.9 MB/s\u001b[0m eta \u001b[36m0:00:00\u001b[0mm eta \u001b[36m0:00:01\u001b[0m[36m0:00:01\u001b[0m\n",
      "\u001b[?25h  Installing build dependencies ... \u001b[?25ldone\n",
      "\u001b[?25h  Getting requirements to build wheel ... \u001b[?25ldone\n",
      "\u001b[?25h  Installing backend dependencies ... \u001b[?25ldone\n",
      "\u001b[?25h  Preparing metadata (pyproject.toml) ... \u001b[?25ldone\n",
      "\u001b[?25hRequirement already satisfied: click<9,>=8.0.0 in /Users/farceo/dev/Python/demos/feast_odfv_profiling/venv/lib/python3.12/site-packages (from kfp) (8.1.7)\n",
      "Collecting docstring-parser<1,>=0.7.3 (from kfp)\n",
      "  Downloading docstring_parser-0.16-py3-none-any.whl.metadata (3.0 kB)\n",
      "Collecting google-api-core!=2.0.*,!=2.1.*,!=2.2.*,!=2.3.0,<3.0.0dev,>=1.31.5 (from kfp)\n",
      "  Using cached google_api_core-2.19.0-py3-none-any.whl.metadata (2.7 kB)\n",
      "Collecting google-auth<3,>=1.6.1 (from kfp)\n",
      "  Downloading google_auth-2.30.0-py2.py3-none-any.whl.metadata (4.7 kB)\n",
      "Collecting google-cloud-storage<3,>=2.2.1 (from kfp)\n",
      "  Downloading google_cloud_storage-2.17.0-py2.py3-none-any.whl.metadata (6.6 kB)\n",
      "Collecting kfp-pipeline-spec==0.3.0 (from kfp)\n",
      "  Downloading kfp_pipeline_spec-0.3.0-py3-none-any.whl.metadata (329 bytes)\n",
      "Collecting kfp-server-api<2.1.0,>=2.0.0 (from kfp)\n",
      "  Downloading kfp-server-api-2.0.5.tar.gz (63 kB)\n",
      "\u001b[2K     \u001b[38;2;114;156;31m━━━━━━━━━━━━━━━━━━━━━━━━━━━━━━━━━━━━━━━━\u001b[0m \u001b[32m63.4/63.4 kB\u001b[0m \u001b[31m10.6 MB/s\u001b[0m eta \u001b[36m0:00:00\u001b[0m\n",
      "\u001b[?25h  Installing build dependencies ... \u001b[?25ldone\n",
      "\u001b[?25h  Getting requirements to build wheel ... \u001b[?25ldone\n",
      "\u001b[?25h  Installing backend dependencies ... \u001b[?25ldone\n",
      "\u001b[?25h  Preparing metadata (pyproject.toml) ... \u001b[?25ldone\n",
      "\u001b[?25hCollecting kubernetes<27,>=8.0.0 (from kfp)\n",
      "  Downloading kubernetes-26.1.0-py2.py3-none-any.whl.metadata (1.5 kB)\n",
      "Requirement already satisfied: protobuf<5,>=4.21.1 in /Users/farceo/dev/Python/demos/feast_odfv_profiling/venv/lib/python3.12/site-packages (from kfp) (4.25.3)\n",
      "Requirement already satisfied: PyYAML<7,>=5.3 in /Users/farceo/dev/Python/demos/feast_odfv_profiling/venv/lib/python3.12/site-packages (from kfp) (6.0.1)\n",
      "Collecting requests-toolbelt<1,>=0.8.0 (from kfp)\n",
      "  Downloading requests_toolbelt-0.10.1-py2.py3-none-any.whl.metadata (14 kB)\n",
      "Requirement already satisfied: tabulate<1,>=0.8.6 in /Users/farceo/dev/Python/demos/feast_odfv_profiling/venv/lib/python3.12/site-packages (from kfp) (0.9.0)\n",
      "Collecting urllib3<2.0.0 (from kfp)\n",
      "  Using cached urllib3-1.26.18-py2.py3-none-any.whl.metadata (48 kB)\n",
      "Collecting googleapis-common-protos<2.0.dev0,>=1.56.2 (from google-api-core!=2.0.*,!=2.1.*,!=2.2.*,!=2.3.0,<3.0.0dev,>=1.31.5->kfp)\n",
      "  Downloading googleapis_common_protos-1.63.1-py2.py3-none-any.whl.metadata (1.5 kB)\n",
      "Collecting proto-plus<2.0.0dev,>=1.22.3 (from google-api-core!=2.0.*,!=2.1.*,!=2.2.*,!=2.3.0,<3.0.0dev,>=1.31.5->kfp)\n",
      "  Using cached proto_plus-1.23.0-py3-none-any.whl.metadata (2.2 kB)\n",
      "Requirement already satisfied: requests<3.0.0.dev0,>=2.18.0 in /Users/farceo/dev/Python/demos/feast_odfv_profiling/venv/lib/python3.12/site-packages (from google-api-core!=2.0.*,!=2.1.*,!=2.2.*,!=2.3.0,<3.0.0dev,>=1.31.5->kfp) (2.32.3)\n",
      "Collecting cachetools<6.0,>=2.0.0 (from google-auth<3,>=1.6.1->kfp)\n",
      "  Using cached cachetools-5.3.3-py3-none-any.whl.metadata (5.3 kB)\n",
      "Collecting pyasn1-modules>=0.2.1 (from google-auth<3,>=1.6.1->kfp)\n",
      "  Using cached pyasn1_modules-0.4.0-py3-none-any.whl.metadata (3.4 kB)\n",
      "Collecting rsa<5,>=3.1.4 (from google-auth<3,>=1.6.1->kfp)\n",
      "  Using cached rsa-4.9-py3-none-any.whl.metadata (4.2 kB)\n",
      "Collecting google-cloud-core<3.0dev,>=2.3.0 (from google-cloud-storage<3,>=2.2.1->kfp)\n",
      "  Using cached google_cloud_core-2.4.1-py2.py3-none-any.whl.metadata (2.7 kB)\n",
      "Collecting google-resumable-media>=2.6.0 (from google-cloud-storage<3,>=2.2.1->kfp)\n",
      "  Downloading google_resumable_media-2.7.1-py2.py3-none-any.whl.metadata (2.2 kB)\n",
      "Collecting google-crc32c<2.0dev,>=1.0 (from google-cloud-storage<3,>=2.2.1->kfp)\n",
      "  Downloading google-crc32c-1.5.0.tar.gz (12 kB)\n",
      "  Installing build dependencies ... \u001b[?25ldone\n",
      "\u001b[?25h  Getting requirements to build wheel ... \u001b[?25ldone\n",
      "\u001b[?25h  Preparing metadata (pyproject.toml) ... \u001b[?25ldone\n",
      "\u001b[?25hRequirement already satisfied: six>=1.10 in /Users/farceo/dev/Python/demos/feast_odfv_profiling/venv/lib/python3.12/site-packages (from kfp-server-api<2.1.0,>=2.0.0->kfp) (1.16.0)\n",
      "Requirement already satisfied: certifi in /Users/farceo/dev/Python/demos/feast_odfv_profiling/venv/lib/python3.12/site-packages (from kfp-server-api<2.1.0,>=2.0.0->kfp) (2024.6.2)\n",
      "Requirement already satisfied: python-dateutil in /Users/farceo/dev/Python/demos/feast_odfv_profiling/venv/lib/python3.12/site-packages (from kfp-server-api<2.1.0,>=2.0.0->kfp) (2.9.0.post0)\n",
      "Requirement already satisfied: setuptools>=21.0.0 in /Users/farceo/dev/Python/demos/feast_odfv_profiling/venv/lib/python3.12/site-packages (from kubernetes<27,>=8.0.0->kfp) (70.0.0)\n",
      "Requirement already satisfied: websocket-client!=0.40.0,!=0.41.*,!=0.42.*,>=0.32.0 in /Users/farceo/dev/Python/demos/feast_odfv_profiling/venv/lib/python3.12/site-packages (from kubernetes<27,>=8.0.0->kfp) (1.8.0)\n",
      "Collecting requests-oauthlib (from kubernetes<27,>=8.0.0->kfp)\n",
      "  Using cached requests_oauthlib-2.0.0-py2.py3-none-any.whl.metadata (11 kB)\n",
      "Collecting pyasn1<0.7.0,>=0.4.6 (from pyasn1-modules>=0.2.1->google-auth<3,>=1.6.1->kfp)\n",
      "  Using cached pyasn1-0.6.0-py2.py3-none-any.whl.metadata (8.3 kB)\n",
      "Requirement already satisfied: charset-normalizer<4,>=2 in /Users/farceo/dev/Python/demos/feast_odfv_profiling/venv/lib/python3.12/site-packages (from requests<3.0.0.dev0,>=2.18.0->google-api-core!=2.0.*,!=2.1.*,!=2.2.*,!=2.3.0,<3.0.0dev,>=1.31.5->kfp) (3.3.2)\n",
      "Requirement already satisfied: idna<4,>=2.5 in /Users/farceo/dev/Python/demos/feast_odfv_profiling/venv/lib/python3.12/site-packages (from requests<3.0.0.dev0,>=2.18.0->google-api-core!=2.0.*,!=2.1.*,!=2.2.*,!=2.3.0,<3.0.0dev,>=1.31.5->kfp) (3.7)\n",
      "Collecting oauthlib>=3.0.0 (from requests-oauthlib->kubernetes<27,>=8.0.0->kfp)\n",
      "  Using cached oauthlib-3.2.2-py3-none-any.whl.metadata (7.5 kB)\n",
      "Downloading kfp_pipeline_spec-0.3.0-py3-none-any.whl (12 kB)\n",
      "Downloading docstring_parser-0.16-py3-none-any.whl (36 kB)\n",
      "Using cached google_api_core-2.19.0-py3-none-any.whl (139 kB)\n",
      "Downloading google_auth-2.30.0-py2.py3-none-any.whl (193 kB)\n",
      "\u001b[2K   \u001b[38;2;114;156;31m━━━━━━━━━━━━━━━━━━━━━━━━━━━━━━━━━━━━━━━━\u001b[0m \u001b[32m193.7/193.7 kB\u001b[0m \u001b[31m20.3 MB/s\u001b[0m eta \u001b[36m0:00:00\u001b[0m\n",
      "\u001b[?25hDownloading google_cloud_storage-2.17.0-py2.py3-none-any.whl (126 kB)\n",
      "\u001b[2K   \u001b[38;2;114;156;31m━━━━━━━━━━━━━━━━━━━━━━━━━━━━━━━━━━━━━━━━\u001b[0m \u001b[32m126.5/126.5 kB\u001b[0m \u001b[31m13.9 MB/s\u001b[0m eta \u001b[36m0:00:00\u001b[0m\n",
      "\u001b[?25hDownloading kubernetes-26.1.0-py2.py3-none-any.whl (1.4 MB)\n",
      "\u001b[2K   \u001b[38;2;114;156;31m━━━━━━━━━━━━━━━━━━━━━━━━━━━━━━━━━━━━━━━━\u001b[0m \u001b[32m1.4/1.4 MB\u001b[0m \u001b[31m27.4 MB/s\u001b[0m eta \u001b[36m0:00:00\u001b[0m31m25.9 MB/s\u001b[0m eta \u001b[36m0:00:01\u001b[0m\n",
      "\u001b[?25hDownloading requests_toolbelt-0.10.1-py2.py3-none-any.whl (54 kB)\n",
      "\u001b[2K   \u001b[38;2;114;156;31m━━━━━━━━━━━━━━━━━━━━━━━━━━━━━━━━━━━━━━━━\u001b[0m \u001b[32m54.5/54.5 kB\u001b[0m \u001b[31m5.1 MB/s\u001b[0m eta \u001b[36m0:00:00\u001b[0m\n",
      "\u001b[?25hUsing cached urllib3-1.26.18-py2.py3-none-any.whl (143 kB)\n",
      "Using cached cachetools-5.3.3-py3-none-any.whl (9.3 kB)\n",
      "Using cached google_cloud_core-2.4.1-py2.py3-none-any.whl (29 kB)\n",
      "Downloading google_resumable_media-2.7.1-py2.py3-none-any.whl (81 kB)\n",
      "\u001b[2K   \u001b[38;2;114;156;31m━━━━━━━━━━━━━━━━━━━━━━━━━━━━━━━━━━━━━━━━\u001b[0m \u001b[32m81.2/81.2 kB\u001b[0m \u001b[31m7.4 MB/s\u001b[0m eta \u001b[36m0:00:00\u001b[0m\n",
      "\u001b[?25hDownloading googleapis_common_protos-1.63.1-py2.py3-none-any.whl (229 kB)\n",
      "\u001b[2K   \u001b[38;2;114;156;31m━━━━━━━━━━━━━━━━━━━━━━━━━━━━━━━━━━━━━━━━\u001b[0m \u001b[32m229.2/229.2 kB\u001b[0m \u001b[31m25.5 MB/s\u001b[0m eta \u001b[36m0:00:00\u001b[0m\n",
      "\u001b[?25hUsing cached proto_plus-1.23.0-py3-none-any.whl (48 kB)\n",
      "Using cached pyasn1_modules-0.4.0-py3-none-any.whl (181 kB)\n",
      "Using cached rsa-4.9-py3-none-any.whl (34 kB)\n",
      "Using cached requests_oauthlib-2.0.0-py2.py3-none-any.whl (24 kB)\n",
      "Using cached oauthlib-3.2.2-py3-none-any.whl (151 kB)\n",
      "Using cached pyasn1-0.6.0-py2.py3-none-any.whl (85 kB)\n",
      "Building wheels for collected packages: kfp, kfp-server-api, google-crc32c\n",
      "  Building wheel for kfp (pyproject.toml) ... \u001b[?25ldone\n",
      "\u001b[?25h  Created wheel for kfp: filename=kfp-2.7.0-py3-none-any.whl size=610419 sha256=05292723e13321caa40c650d06375007874add79cb3bcc0ecc671770c48fa3db\n",
      "  Stored in directory: /Users/farceo/Library/Caches/pip/wheels/d9/76/75/9adde92bf028ef1fdb0c6307cb7bb6f69e2f77b3475b77062a\n",
      "  Building wheel for kfp-server-api (pyproject.toml) ... \u001b[?25ldone\n",
      "\u001b[?25h  Created wheel for kfp-server-api: filename=kfp_server_api-2.0.5-py3-none-any.whl size=114733 sha256=46204e5b441b693e989e919e196c93302d85d19309b5510789e90e1bbee46317\n",
      "  Stored in directory: /Users/farceo/Library/Caches/pip/wheels/b6/3a/7a/2701e56a59922b6325a950a1ede599e6b1fee17813d9c20fd2\n",
      "  Building wheel for google-crc32c (pyproject.toml) ... \u001b[?25ldone\n",
      "\u001b[?25h  Created wheel for google-crc32c: filename=google_crc32c-1.5.0-py3-none-any.whl size=13026 sha256=aacc9582ae0fc0f97ebe15bfefec459b7647047baceffa76fdfcee4ec361a87a\n",
      "  Stored in directory: /Users/farceo/Library/Caches/pip/wheels/40/b9/2e/089df51c5e6f7cda282c650457a1d9a7a55bf6386d8de8bf3d\n",
      "Successfully built kfp kfp-server-api google-crc32c\n",
      "Installing collected packages: urllib3, pyasn1, proto-plus, oauthlib, kfp-pipeline-spec, googleapis-common-protos, google-crc32c, docstring-parser, cachetools, rsa, pyasn1-modules, kfp-server-api, google-resumable-media, requests-toolbelt, requests-oauthlib, google-auth, kubernetes, google-api-core, google-cloud-core, google-cloud-storage, kfp\n",
      "  Attempting uninstall: urllib3\n",
      "    Found existing installation: urllib3 2.2.1\n",
      "    Uninstalling urllib3-2.2.1:\n",
      "      Successfully uninstalled urllib3-2.2.1\n",
      "Successfully installed cachetools-5.3.3 docstring-parser-0.16 google-api-core-2.19.0 google-auth-2.30.0 google-cloud-core-2.4.1 google-cloud-storage-2.17.0 google-crc32c-1.5.0 google-resumable-media-2.7.1 googleapis-common-protos-1.63.1 kfp-2.7.0 kfp-pipeline-spec-0.3.0 kfp-server-api-2.0.5 kubernetes-26.1.0 oauthlib-3.2.2 proto-plus-1.23.0 pyasn1-0.6.0 pyasn1-modules-0.4.0 requests-oauthlib-2.0.0 requests-toolbelt-0.10.1 rsa-4.9 urllib3-1.26.18\n"
     ]
    }
   ],
   "source": [
    "! pip install kfp"
   ]
  },
  {
   "cell_type": "code",
   "execution_count": 3,
   "id": "2d0b6621-fc16-40de-ae5d-79843a523c68",
   "metadata": {},
   "outputs": [],
   "source": [
    "import feast\n",
    "import kfp"
   ]
  },
  {
   "cell_type": "code",
   "execution_count": 5,
   "id": "0e8151db-b6f2-4c91-a05c-a751eacdb6c6",
   "metadata": {},
   "outputs": [
    {
     "name": "stderr",
     "output_type": "stream",
     "text": [
      "/opt/homebrew/Cellar/python@3.12/3.12.3/Frameworks/Python.framework/Versions/3.12/lib/python3.12/pty.py:95: DeprecationWarning: This process (pid=45828) is multi-threaded, use of forkpty() may lead to deadlocks in the child.\n",
      "  pid, fd = os.forkpty()\n"
     ]
    },
    {
     "name": "stdout",
     "output_type": "stream",
     "text": [
      "\n",
      "Creating a new Feast repository in \u001b[1m\u001b[32m/Users/farceo/dev/Python/demos/kfp-feast-qlora/amusing_piglet\u001b[0m.\n",
      "\n"
     ]
    }
   ],
   "source": [
    "! feast init"
   ]
  },
  {
   "cell_type": "code",
   "execution_count": 8,
   "id": "b12bc31d-e0a5-44ac-aa44-7e0acbf485d4",
   "metadata": {},
   "outputs": [
    {
     "name": "stdout",
     "output_type": "stream",
     "text": [
      "/Users/farceo/dev/Python/demos/feast_odfv_profiling/venv/lib/python3.12/site-packages/feast/infra/registry/file.py:40: DeprecationWarning: datetime.datetime.utcnow() is deprecated and scheduled for removal in a future version. Use timezone-aware objects to represent datetimes in UTC: datetime.datetime.now(datetime.UTC).\n",
      "  registry_proto.last_updated.FromDatetime(datetime.utcnow())\n",
      "/Users/farceo/dev/Python/demos/feast_odfv_profiling/venv/lib/python3.12/site-packages/feast/infra/registry/registry.py:821: DeprecationWarning: datetime.datetime.utcnow() is deprecated and scheduled for removal in a future version. Use timezone-aware objects to represent datetimes in UTC: datetime.datetime.now(datetime.UTC).\n",
      "  self.cached_registry_proto_created = datetime.utcnow()\n",
      "/Users/farceo/dev/Python/demos/feast_odfv_profiling/venv/lib/python3.12/site-packages/feast/feature_store.py:534: RuntimeWarning: On demand feature view is an experimental feature. This API is stable, but the functionality does not scale well for offline retrieval\n",
      "  warnings.warn(\n",
      "/Users/farceo/dev/Python/demos/feast_odfv_profiling/venv/lib/python3.12/site-packages/feast/on_demand_feature_view.py:552: DeprecationWarning: datetime.datetime.utcnow() is deprecated and scheduled for removal in a future version. Use timezone-aware objects to represent datetimes in UTC: datetime.datetime.now(datetime.UTC).\n",
      "  ValueType.UNIX_TIMESTAMP: [datetime.utcnow()],\n",
      "/Users/farceo/dev/Python/demos/feast_odfv_profiling/venv/lib/python3.12/site-packages/feast/on_demand_feature_view.py:552: DeprecationWarning: datetime.datetime.utcnow() is deprecated and scheduled for removal in a future version. Use timezone-aware objects to represent datetimes in UTC: datetime.datetime.now(datetime.UTC).\n",
      "  ValueType.UNIX_TIMESTAMP: [datetime.utcnow()],\n",
      "/Users/farceo/dev/Python/demos/feast_odfv_profiling/venv/lib/python3.12/site-packages/feast/infra/registry/registry.py:798: DeprecationWarning: datetime.datetime.utcnow() is deprecated and scheduled for removal in a future version. Use timezone-aware objects to represent datetimes in UTC: datetime.datetime.now(datetime.UTC).\n",
      "  datetime.utcnow()\n",
      "Created entity \u001b[1m\u001b[32mdriver\u001b[0m\n",
      "Created feature view \u001b[1m\u001b[32mdriver_hourly_stats\u001b[0m\n",
      "Created feature view \u001b[1m\u001b[32mdriver_hourly_stats_fresh\u001b[0m\n",
      "Created on demand feature view \u001b[1m\u001b[32mtransformed_conv_rate_fresh\u001b[0m\n",
      "Created on demand feature view \u001b[1m\u001b[32mtransformed_conv_rate\u001b[0m\n",
      "Created feature service \u001b[1m\u001b[32mdriver_activity_v1\u001b[0m\n",
      "Created feature service \u001b[1m\u001b[32mdriver_activity_v3\u001b[0m\n",
      "Created feature service \u001b[1m\u001b[32mdriver_activity_v2\u001b[0m\n",
      "\n",
      "/Users/farceo/dev/Python/demos/feast_odfv_profiling/venv/lib/python3.12/site-packages/feast/infra/registry/registry.py:798: DeprecationWarning: datetime.datetime.utcnow() is deprecated and scheduled for removal in a future version. Use timezone-aware objects to represent datetimes in UTC: datetime.datetime.now(datetime.UTC).\n",
      "  datetime.utcnow()\n",
      "/Users/farceo/dev/Python/demos/feast_odfv_profiling/venv/lib/python3.12/site-packages/feast/infra/registry/registry.py:798: DeprecationWarning: datetime.datetime.utcnow() is deprecated and scheduled for removal in a future version. Use timezone-aware objects to represent datetimes in UTC: datetime.datetime.now(datetime.UTC).\n",
      "  datetime.utcnow()\n",
      "/Users/farceo/dev/Python/demos/feast_odfv_profiling/venv/lib/python3.12/site-packages/feast/infra/registry/registry.py:798: DeprecationWarning: datetime.datetime.utcnow() is deprecated and scheduled for removal in a future version. Use timezone-aware objects to represent datetimes in UTC: datetime.datetime.now(datetime.UTC).\n",
      "  datetime.utcnow()\n",
      "/Users/farceo/dev/Python/demos/feast_odfv_profiling/venv/lib/python3.12/site-packages/feast/infra/registry/file.py:40: DeprecationWarning: datetime.datetime.utcnow() is deprecated and scheduled for removal in a future version. Use timezone-aware objects to represent datetimes in UTC: datetime.datetime.now(datetime.UTC).\n",
      "  registry_proto.last_updated.FromDatetime(datetime.utcnow())\n",
      "Created sqlite table \u001b[1m\u001b[32mamusing_piglet_driver_hourly_stats_fresh\u001b[0m\n",
      "Created sqlite table \u001b[1m\u001b[32mamusing_piglet_driver_hourly_stats\u001b[0m\n",
      "\n"
     ]
    }
   ],
   "source": [
    "! cd amusing_piglet/feature_repo/ && feast apply"
   ]
  },
  {
   "cell_type": "code",
   "execution_count": 9,
   "id": "795248f5-dac4-402b-bb1b-34dfa2358750",
   "metadata": {},
   "outputs": [],
   "source": [
    "from feast import FeatureStore"
   ]
  },
  {
   "cell_type": "code",
   "execution_count": 10,
   "id": "5c882181-5d0f-4b0e-a667-938a929b33af",
   "metadata": {},
   "outputs": [
    {
     "name": "stderr",
     "output_type": "stream",
     "text": [
      "/Users/farceo/dev/Python/demos/feast_odfv_profiling/venv/lib/python3.12/site-packages/feast/infra/registry/registry.py:821: DeprecationWarning: datetime.datetime.utcnow() is deprecated and scheduled for removal in a future version. Use timezone-aware objects to represent datetimes in UTC: datetime.datetime.now(datetime.UTC).\n",
      "  self.cached_registry_proto_created = datetime.utcnow()\n"
     ]
    }
   ],
   "source": [
    "store = FeatureStore(\"./amusing_piglet/feature_repo/\")"
   ]
  },
  {
   "cell_type": "code",
   "execution_count": 12,
   "id": "4d61368b-16dd-45ba-adac-f9663a2b8642",
   "metadata": {},
   "outputs": [
    {
     "name": "stderr",
     "output_type": "stream",
     "text": [
      "/Users/farceo/dev/Python/demos/feast_odfv_profiling/venv/lib/python3.12/site-packages/feast/infra/registry/registry.py:798: DeprecationWarning: datetime.datetime.utcnow() is deprecated and scheduled for removal in a future version. Use timezone-aware objects to represent datetimes in UTC: datetime.datetime.now(datetime.UTC).\n",
      "  datetime.utcnow()\n"
     ]
    },
    {
     "data": {
      "text/plain": [
       "[<FeatureView(name = driver_hourly_stats, entities = ['driver'], ttl = 1 day, 0:00:00, stream_source = None, batch_source = {\n",
       "   \"type\": \"BATCH_FILE\",\n",
       "   \"timestampField\": \"event_timestamp\",\n",
       "   \"createdTimestampColumn\": \"created\",\n",
       "   \"fileOptions\": {\n",
       "     \"uri\": \"/Users/farceo/dev/Python/demos/kfp-feast-qlora/amusing_piglet/feature_repo/data/driver_stats.parquet\"\n",
       "   },\n",
       "   \"name\": \"driver_hourly_stats_source\"\n",
       " }, entity_columns = [driver_id-Int64], features = [conv_rate-Float32, acc_rate-Float32, avg_daily_trips-Int64], description = , tags = {'team': 'driver_performance'}, owner = , projection = FeatureViewProjection(name='driver_hourly_stats', name_alias=None, desired_features=[], features=[conv_rate-Float32, acc_rate-Float32, avg_daily_trips-Int64], join_key_map={}), created_timestamp = 2024-06-11 02:35:16.862777, last_updated_timestamp = 2024-06-11 02:35:16.862777, online = True, materialization_intervals = [])>,\n",
       " <FeatureView(name = driver_hourly_stats_fresh, entities = ['driver'], ttl = 1 day, 0:00:00, stream_source = {\n",
       "   \"type\": \"PUSH_SOURCE\",\n",
       "   \"name\": \"driver_stats_push_source\",\n",
       "   \"batchSource\": {\n",
       "     \"type\": \"BATCH_FILE\",\n",
       "     \"timestampField\": \"event_timestamp\",\n",
       "     \"createdTimestampColumn\": \"created\",\n",
       "     \"fileOptions\": {\n",
       "       \"uri\": \"/Users/farceo/dev/Python/demos/kfp-feast-qlora/amusing_piglet/feature_repo/data/driver_stats.parquet\"\n",
       "     },\n",
       "     \"name\": \"driver_hourly_stats_source\"\n",
       "   }\n",
       " }, batch_source = {\n",
       "   \"type\": \"BATCH_FILE\",\n",
       "   \"timestampField\": \"event_timestamp\",\n",
       "   \"createdTimestampColumn\": \"created\",\n",
       "   \"fileOptions\": {\n",
       "     \"uri\": \"/Users/farceo/dev/Python/demos/kfp-feast-qlora/amusing_piglet/feature_repo/data/driver_stats.parquet\"\n",
       "   },\n",
       "   \"name\": \"driver_hourly_stats_source\"\n",
       " }, entity_columns = [driver_id-Int64], features = [conv_rate-Float32, acc_rate-Float32, avg_daily_trips-Int64], description = , tags = {'team': 'driver_performance'}, owner = , projection = FeatureViewProjection(name='driver_hourly_stats_fresh', name_alias=None, desired_features=[], features=[conv_rate-Float32, acc_rate-Float32, avg_daily_trips-Int64], join_key_map={}), created_timestamp = 2024-06-11 02:35:16.862841, last_updated_timestamp = 2024-06-11 02:35:16.862841, online = True, materialization_intervals = [])>]"
      ]
     },
     "execution_count": 12,
     "metadata": {},
     "output_type": "execute_result"
    }
   ],
   "source": [
    "store.list_feature_views()"
   ]
  },
  {
   "cell_type": "code",
   "execution_count": 19,
   "id": "d3cf01cf-017a-4506-b279-d02fd6885d4d",
   "metadata": {},
   "outputs": [
    {
     "name": "stderr",
     "output_type": "stream",
     "text": [
      "/opt/homebrew/Cellar/python@3.12/3.12.3/Frameworks/Python.framework/Versions/3.12/lib/python3.12/pty.py:95: DeprecationWarning: This process (pid=45828) is multi-threaded, use of forkpty() may lead to deadlocks in the child.\n",
      "  pid, fd = os.forkpty()\n"
     ]
    },
    {
     "name": "stdout",
     "output_type": "stream",
     "text": [
      "Collecting wikipedia\n",
      "  Downloading wikipedia-1.4.0.tar.gz (27 kB)\n",
      "  Installing build dependencies ... \u001b[?25ldone\n",
      "\u001b[?25h  Getting requirements to build wheel ... \u001b[?25ldone\n",
      "\u001b[?25h  Installing backend dependencies ... \u001b[?25ldone\n",
      "\u001b[?25h  Preparing metadata (pyproject.toml) ... \u001b[?25ldone\n",
      "\u001b[?25hRequirement already satisfied: beautifulsoup4 in /Users/farceo/dev/Python/demos/feast_odfv_profiling/venv/lib/python3.12/site-packages (from wikipedia) (4.12.3)\n",
      "Requirement already satisfied: requests<3.0.0,>=2.0.0 in /Users/farceo/dev/Python/demos/feast_odfv_profiling/venv/lib/python3.12/site-packages (from wikipedia) (2.32.3)\n",
      "Requirement already satisfied: charset-normalizer<4,>=2 in /Users/farceo/dev/Python/demos/feast_odfv_profiling/venv/lib/python3.12/site-packages (from requests<3.0.0,>=2.0.0->wikipedia) (3.3.2)\n",
      "Requirement already satisfied: idna<4,>=2.5 in /Users/farceo/dev/Python/demos/feast_odfv_profiling/venv/lib/python3.12/site-packages (from requests<3.0.0,>=2.0.0->wikipedia) (3.7)\n",
      "Requirement already satisfied: urllib3<3,>=1.21.1 in /Users/farceo/dev/Python/demos/feast_odfv_profiling/venv/lib/python3.12/site-packages (from requests<3.0.0,>=2.0.0->wikipedia) (1.26.18)\n",
      "Requirement already satisfied: certifi>=2017.4.17 in /Users/farceo/dev/Python/demos/feast_odfv_profiling/venv/lib/python3.12/site-packages (from requests<3.0.0,>=2.0.0->wikipedia) (2024.6.2)\n",
      "Requirement already satisfied: soupsieve>1.2 in /Users/farceo/dev/Python/demos/feast_odfv_profiling/venv/lib/python3.12/site-packages (from beautifulsoup4->wikipedia) (2.5)\n",
      "Building wheels for collected packages: wikipedia\n",
      "  Building wheel for wikipedia (pyproject.toml) ... \u001b[?25ldone\n",
      "\u001b[?25h  Created wheel for wikipedia: filename=wikipedia-1.4.0-py3-none-any.whl size=11680 sha256=720bac56eab9e7b794a9eae2bd282eaccc74a26af2b783f2db70590621295562\n",
      "  Stored in directory: /Users/farceo/Library/Caches/pip/wheels/63/47/7c/a9688349aa74d228ce0a9023229c6c0ac52ca2a40fe87679b8\n",
      "Successfully built wikipedia\n",
      "Installing collected packages: wikipedia\n",
      "Successfully installed wikipedia-1.4.0\n"
     ]
    }
   ],
   "source": [
    "! pip install wikipedia"
   ]
  },
  {
   "cell_type": "code",
   "execution_count": 22,
   "id": "f61318b3-198b-4454-aaf0-b7c83f96a93f",
   "metadata": {
    "scrolled": true
   },
   "outputs": [
    {
     "name": "stdout",
     "output_type": "stream",
     "text": [
      "Collecting transformers\n",
      "  Downloading transformers-4.41.2-py3-none-any.whl.metadata (43 kB)\n",
      "\u001b[2K     \u001b[38;2;114;156;31m━━━━━━━━━━━━━━━━━━━━━━━━━━━━━━━━━━━━━━━━\u001b[0m \u001b[32m43.8/43.8 kB\u001b[0m \u001b[31m1.3 MB/s\u001b[0m eta \u001b[36m0:00:00\u001b[0m\n",
      "\u001b[?25hCollecting filelock (from transformers)\n",
      "  Using cached filelock-3.14.0-py3-none-any.whl.metadata (2.8 kB)\n",
      "Collecting huggingface-hub<1.0,>=0.23.0 (from transformers)\n",
      "  Downloading huggingface_hub-0.23.3-py3-none-any.whl.metadata (12 kB)\n",
      "Requirement already satisfied: numpy>=1.17 in /Users/farceo/dev/Python/demos/feast_odfv_profiling/venv/lib/python3.12/site-packages (from transformers) (1.26.4)\n",
      "Requirement already satisfied: packaging>=20.0 in /Users/farceo/dev/Python/demos/feast_odfv_profiling/venv/lib/python3.12/site-packages (from transformers) (24.0)\n",
      "Requirement already satisfied: pyyaml>=5.1 in /Users/farceo/dev/Python/demos/feast_odfv_profiling/venv/lib/python3.12/site-packages (from transformers) (6.0.1)\n",
      "Collecting regex!=2019.12.17 (from transformers)\n",
      "  Downloading regex-2024.5.15-cp312-cp312-macosx_11_0_arm64.whl.metadata (40 kB)\n",
      "\u001b[2K     \u001b[38;2;114;156;31m━━━━━━━━━━━━━━━━━━━━━━━━━━━━━━━━━━━━━━━━\u001b[0m \u001b[32m40.9/40.9 kB\u001b[0m \u001b[31m3.3 MB/s\u001b[0m eta \u001b[36m0:00:00\u001b[0m\n",
      "\u001b[?25hRequirement already satisfied: requests in /Users/farceo/dev/Python/demos/feast_odfv_profiling/venv/lib/python3.12/site-packages (from transformers) (2.32.3)\n",
      "Collecting tokenizers<0.20,>=0.19 (from transformers)\n",
      "  Downloading tokenizers-0.19.1-cp312-cp312-macosx_11_0_arm64.whl.metadata (6.7 kB)\n",
      "Collecting safetensors>=0.4.1 (from transformers)\n",
      "  Downloading safetensors-0.4.3-cp312-cp312-macosx_11_0_arm64.whl.metadata (3.8 kB)\n",
      "Requirement already satisfied: tqdm>=4.27 in /Users/farceo/dev/Python/demos/feast_odfv_profiling/venv/lib/python3.12/site-packages (from transformers) (4.66.4)\n",
      "Requirement already satisfied: fsspec>=2023.5.0 in /Users/farceo/dev/Python/demos/feast_odfv_profiling/venv/lib/python3.12/site-packages (from huggingface-hub<1.0,>=0.23.0->transformers) (2024.6.0)\n",
      "Requirement already satisfied: typing-extensions>=3.7.4.3 in /Users/farceo/dev/Python/demos/feast_odfv_profiling/venv/lib/python3.12/site-packages (from huggingface-hub<1.0,>=0.23.0->transformers) (4.12.2)\n",
      "Requirement already satisfied: charset-normalizer<4,>=2 in /Users/farceo/dev/Python/demos/feast_odfv_profiling/venv/lib/python3.12/site-packages (from requests->transformers) (3.3.2)\n",
      "Requirement already satisfied: idna<4,>=2.5 in /Users/farceo/dev/Python/demos/feast_odfv_profiling/venv/lib/python3.12/site-packages (from requests->transformers) (3.7)\n",
      "Requirement already satisfied: urllib3<3,>=1.21.1 in /Users/farceo/dev/Python/demos/feast_odfv_profiling/venv/lib/python3.12/site-packages (from requests->transformers) (1.26.18)\n",
      "Requirement already satisfied: certifi>=2017.4.17 in /Users/farceo/dev/Python/demos/feast_odfv_profiling/venv/lib/python3.12/site-packages (from requests->transformers) (2024.6.2)\n",
      "Downloading transformers-4.41.2-py3-none-any.whl (9.1 MB)\n",
      "\u001b[2K   \u001b[38;2;114;156;31m━━━━━━━━━━━━━━━━━━━━━━━━━━━━━━━━━━━━━━━━\u001b[0m \u001b[32m9.1/9.1 MB\u001b[0m \u001b[31m35.7 MB/s\u001b[0m eta \u001b[36m0:00:00\u001b[0m MB/s\u001b[0m eta \u001b[36m0:00:01\u001b[0m:01\u001b[0m\n",
      "\u001b[?25hDownloading huggingface_hub-0.23.3-py3-none-any.whl (401 kB)\n",
      "\u001b[2K   \u001b[38;2;114;156;31m━━━━━━━━━━━━━━━━━━━━━━━━━━━━━━━━━━━━━━━━\u001b[0m \u001b[32m401.7/401.7 kB\u001b[0m \u001b[31m26.4 MB/s\u001b[0m eta \u001b[36m0:00:00\u001b[0m\n",
      "\u001b[?25hDownloading regex-2024.5.15-cp312-cp312-macosx_11_0_arm64.whl (278 kB)\n",
      "\u001b[2K   \u001b[38;2;114;156;31m━━━━━━━━━━━━━━━━━━━━━━━━━━━━━━━━━━━━━━━━\u001b[0m \u001b[32m278.5/278.5 kB\u001b[0m \u001b[31m25.3 MB/s\u001b[0m eta \u001b[36m0:00:00\u001b[0m\n",
      "\u001b[?25hDownloading safetensors-0.4.3-cp312-cp312-macosx_11_0_arm64.whl (411 kB)\n",
      "\u001b[2K   \u001b[38;2;114;156;31m━━━━━━━━━━━━━━━━━━━━━━━━━━━━━━━━━━━━━━━━\u001b[0m \u001b[32m411.1/411.1 kB\u001b[0m \u001b[31m37.4 MB/s\u001b[0m eta \u001b[36m0:00:00\u001b[0m\n",
      "\u001b[?25hDownloading tokenizers-0.19.1-cp312-cp312-macosx_11_0_arm64.whl (2.4 MB)\n",
      "\u001b[2K   \u001b[38;2;114;156;31m━━━━━━━━━━━━━━━━━━━━━━━━━━━━━━━━━━━━━━━━\u001b[0m \u001b[32m2.4/2.4 MB\u001b[0m \u001b[31m56.1 MB/s\u001b[0m eta \u001b[36m0:00:00\u001b[0mm eta \u001b[36m0:00:01\u001b[0m\n",
      "\u001b[?25hUsing cached filelock-3.14.0-py3-none-any.whl (12 kB)\n",
      "Installing collected packages: safetensors, regex, filelock, huggingface-hub, tokenizers, transformers\n",
      "Successfully installed filelock-3.14.0 huggingface-hub-0.23.3 regex-2024.5.15 safetensors-0.4.3 tokenizers-0.19.1 transformers-4.41.2\n"
     ]
    }
   ],
   "source": [
    "! pip install transformers"
   ]
  },
  {
   "cell_type": "code",
   "execution_count": 26,
   "id": "13835d45-1c54-4406-89d5-99470cf93137",
   "metadata": {},
   "outputs": [
    {
     "name": "stdout",
     "output_type": "stream",
     "text": [
      "Collecting torch\n",
      "  Downloading torch-2.3.1-cp312-none-macosx_11_0_arm64.whl.metadata (26 kB)\n",
      "Requirement already satisfied: filelock in /Users/farceo/dev/Python/demos/feast_odfv_profiling/venv/lib/python3.12/site-packages (from torch) (3.14.0)\n",
      "Requirement already satisfied: typing-extensions>=4.8.0 in /Users/farceo/dev/Python/demos/feast_odfv_profiling/venv/lib/python3.12/site-packages (from torch) (4.12.2)\n",
      "Collecting sympy (from torch)\n",
      "  Downloading sympy-1.12.1-py3-none-any.whl.metadata (12 kB)\n",
      "Collecting networkx (from torch)\n",
      "  Downloading networkx-3.3-py3-none-any.whl.metadata (5.1 kB)\n",
      "Requirement already satisfied: jinja2 in /Users/farceo/dev/Python/demos/feast_odfv_profiling/venv/lib/python3.12/site-packages (from torch) (3.1.4)\n",
      "Requirement already satisfied: fsspec in /Users/farceo/dev/Python/demos/feast_odfv_profiling/venv/lib/python3.12/site-packages (from torch) (2024.6.0)\n",
      "Requirement already satisfied: MarkupSafe>=2.0 in /Users/farceo/dev/Python/demos/feast_odfv_profiling/venv/lib/python3.12/site-packages (from jinja2->torch) (2.1.5)\n",
      "Collecting mpmath<1.4.0,>=1.1.0 (from sympy->torch)\n",
      "  Downloading mpmath-1.3.0-py3-none-any.whl.metadata (8.6 kB)\n",
      "Downloading torch-2.3.1-cp312-none-macosx_11_0_arm64.whl (61.0 MB)\n",
      "\u001b[2K   \u001b[38;2;114;156;31m━━━━━━━━━━━━━━━━━━━━━━━━━━━━━━━━━━━━━━━━\u001b[0m \u001b[32m61.0/61.0 MB\u001b[0m \u001b[31m10.6 MB/s\u001b[0m eta \u001b[36m0:00:00\u001b[0mm eta \u001b[36m0:00:01\u001b[0m[36m0:00:01\u001b[0m\n",
      "\u001b[?25hDownloading networkx-3.3-py3-none-any.whl (1.7 MB)\n",
      "\u001b[2K   \u001b[38;2;114;156;31m━━━━━━━━━━━━━━━━━━━━━━━━━━━━━━━━━━━━━━━━\u001b[0m \u001b[32m1.7/1.7 MB\u001b[0m \u001b[31m13.5 MB/s\u001b[0m eta \u001b[36m0:00:00\u001b[0mm eta \u001b[36m0:00:01\u001b[0m[36m0:00:01\u001b[0m\n",
      "\u001b[?25hDownloading sympy-1.12.1-py3-none-any.whl (5.7 MB)\n",
      "\u001b[2K   \u001b[38;2;114;156;31m━━━━━━━━━━━━━━━━━━━━━━━━━━━━━━━━━━━━━━━━\u001b[0m \u001b[32m5.7/5.7 MB\u001b[0m \u001b[31m18.7 MB/s\u001b[0m eta \u001b[36m0:00:00\u001b[0m31m19.9 MB/s\u001b[0m eta \u001b[36m0:00:01\u001b[0m\n",
      "\u001b[?25hDownloading mpmath-1.3.0-py3-none-any.whl (536 kB)\n",
      "\u001b[2K   \u001b[38;2;114;156;31m━━━━━━━━━━━━━━━━━━━━━━━━━━━━━━━━━━━━━━━━\u001b[0m \u001b[32m536.2/536.2 kB\u001b[0m \u001b[31m15.5 MB/s\u001b[0m eta \u001b[36m0:00:00\u001b[0m\n",
      "\u001b[?25hInstalling collected packages: mpmath, sympy, networkx, torch\n",
      "Successfully installed mpmath-1.3.0 networkx-3.3 sympy-1.12.1 torch-2.3.1\n"
     ]
    }
   ],
   "source": [
    "! pip install torch"
   ]
  },
  {
   "cell_type": "code",
   "execution_count": null,
   "id": "dffc050a-74cb-4cc3-88bc-49cdeca2a09b",
   "metadata": {},
   "outputs": [],
   "source": [
    "import os\n",
    "import wikipedia as wiki\n",
    "import pandas as pd\n",
    "from kfp.v2.dsl import component, Output, Dataset\n",
    "\n",
    "@component(base_image='python:3.8')\n",
    "def pull_state_data(output_dataset: Output[Dataset]):\n",
    "    EXPORT_PATH = output_dataset.path\n",
    "    EXPORT_FILENAME = os.path.join(EXPORT_PATH, \"city_wikipedia_summaries.csv\")\n",
    "\n",
    "    CITIES = [\n",
    "        \"New York, New York\", \"Los Angeles, California\", \"Chicago, Illinois\", \n",
    "        \"Houston, Texas\", \"Phoenix, Arizona\", \"Philadelphia, Pennsylvania\", \n",
    "        \"San Antonio, Texas\", \"San Diego, California\", \"Dallas, Texas\", \n",
    "        \"San Jose, California\", \"Austin, Texas\", \"Jacksonville, Florida\", \n",
    "        \"Fort Worth, Texas\", \"Columbus, Ohio\", \"Charlotte, North Carolina\", \n",
    "        \"San Francisco, California\", \"Indianapolis, Indiana\", \"Seattle, Washington\", \n",
    "        \"Denver, Colorado\", \"Washington, D.C.\", \"Boston, Massachusetts\", \n",
    "        \"El Paso, Texas\", \"Nashville, Tennessee\", \"Detroit, Michigan\", \n",
    "        \"Oklahoma City, Oklahoma\", \"Portland, Oregon\", \"Las Vegas, Nevada\", \n",
    "        \"Memphis, Tennessee\", \"Louisville, Kentucky\", \"Baltimore, Maryland\", \n",
    "        \"Milwaukee, Wisconsin\", \"Albuquerque, New Mexico\", \"Tucson, Arizona\", \n",
    "        \"Fresno, California\", \"Mesa, Arizona\", \"Sacramento, California\", \n",
    "        \"Atlanta, Georgia\", \"Kansas City, Missouri\", \"Colorado Springs, Colorado\", \n",
    "        \"Miami, Florida\", \"Raleigh, North Carolina\", \"Omaha, Nebraska\", \n",
    "        \"Long Beach, California\", \"Virginia Beach, Virginia\", \"Oakland, California\", \n",
    "        \"Minneapolis, Minnesota\", \"Tulsa, Oklahoma\", \"Arlington, Texas\", \n",
    "        \"Tampa, Florida\", \"New Orleans, Louisiana\"\n",
    "    ]\n",
    "\n",
    "    def get_wikipedia_summary(cities):\n",
    "        city_summaries = {}\n",
    "        for city in cities:\n",
    "            try:\n",
    "                city_summaries[city] = wiki.summary(city)\n",
    "            except:\n",
    "                print(f\"error retrieving {city}\")\n",
    "        return city_summaries\n",
    "\n",
    "    def write_data(output_dict):\n",
    "        df = pd.DataFrame([output_dict]).T.reset_index()\n",
    "        df.columns = [\"City\", \"Wiki Summary\"]\n",
    "        df.to_csv(EXPORT_FILENAME, index=False)\n",
    "\n",
    "    city_summary_output = get_wikipedia_summary(CITIES)\n",
    "    write_data(city_summary_output)\n",
    "    print(f\"Data exported to {EXPORT_FILENAME}\")\n"
   ]
  },
  {
   "cell_type": "code",
   "execution_count": 31,
   "id": "ef88c9b4-8e4d-4c46-a895-778475cb7603",
   "metadata": {},
   "outputs": [],
   "source": [
    "import os\n",
    "import pandas as pd\n",
    "from transformers import AutoTokenizer, AutoModel\n",
    "import torch\n",
    "import torch.nn.functional as F\n",
    "from kfp.v2.dsl import component, Input, Output, Dataset\n",
    "\n",
    "@component(base_image='python:3.8')\n",
    "def score_data(input_dataset: Input[Dataset], output_dataset: Output[Dataset]):\n",
    "    INPUT_FILENAME = input_dataset.path\n",
    "    EXPORT_FILENAME = os.path.join(output_dataset.path, \"city_wikipedia_summaries_with_embeddings.parquet\")\n",
    "    TOKENIZER = \"sentence-transformers/all-MiniLM-L6-v2\"\n",
    "    MODEL = \"sentence-transformers/all-MiniLM-L6-v2\"\n",
    "\n",
    "    def mean_pooling(model_output, attention_mask):\n",
    "        token_embeddings = model_output[0]\n",
    "        input_mask_expanded = attention_mask.unsqueeze(-1).expand(token_embeddings.size()).float()\n",
    "        return torch.sum(token_embeddings * input_mask_expanded, 1) / torch.clamp(input_mask_expanded.sum(1), min=1e-9)\n",
    "\n",
    "    def run_model(sentences, tokenizer, model):\n",
    "        encoded_input = tokenizer(sentences, padding=True, truncation=True, return_tensors=\"pt\")\n",
    "        with torch.no_grad():\n",
    "            model_output = model(**encoded_input)\n",
    "        sentence_embeddings = mean_pooling(model_output, encoded_input[\"attention_mask\"])\n",
    "        sentence_embeddings = F.normalize(sentence_embeddings, p=2, dim=1)\n",
    "        return sentence_embeddings\n",
    "\n",
    "    df = pd.read_csv(INPUT_FILENAME)\n",
    "    tokenizer = AutoTokenizer.from_pretrained(TOKENIZER)\n",
    "    model = AutoModel.from_pretrained(MODEL)\n",
    "    embeddings = run_model(df[\"Wiki Summary\"].tolist(), tokenizer, model)\n",
    "    df[\"Embeddings\"] = list(embeddings.detach().cpu().numpy())\n",
    "    df[\"event_timestamp\"] = pd.to_datetime(\"today\")\n",
    "    df[\"item_id\"] = df.index\n",
    "    df.to_parquet(EXPORT_FILENAME, index=False)\n",
    "    print(\"Data exported to\", EXPORT_FILENAME)\n"
   ]
  },
  {
   "cell_type": "code",
   "execution_count": 32,
   "id": "af9d684c-55dc-482b-b8bc-da44ea2ebc70",
   "metadata": {},
   "outputs": [],
   "source": [
    "import csv\n",
    "import random\n",
    "from kfp.v2.dsl import component, Output, Dataset\n",
    "\n",
    "@component(base_image='python:3.8')\n",
    "def generate_random_question(output_dataset: Output[Dataset]):\n",
    "    topics = [\n",
    "        \"science\", \"history\", \"technology\", \"mathematics\", \n",
    "        \"geography\", \"literature\", \"sports\", \"art\", \n",
    "        \"music\", \"cinema\"\n",
    "    ]\n",
    "    \n",
    "    question_patterns = [\n",
    "        \"What are the key principles of {}?\",\n",
    "        \"Who are the most influential figures in {}?\",\n",
    "        \"How has {} evolved over the years?\",\n",
    "        \"What are some common misconceptions about {}?\",\n",
    "        \"Can you explain the theory of {}?\",\n",
    "        \"What role does {} play in modern society?\",\n",
    "        \"How does {} affect our daily lives?\",\n",
    "        \"What are the future prospects of {}?\",\n",
    "        \"What are the major challenges in {} today?\",\n",
    "        \"How can one get started with {}?\",\n",
    "    ]\n",
    "    \n",
    "    questions = []\n",
    "    for _ in range(50):\n",
    "        topic = random.choice(topics)\n",
    "        pattern = random.choice(question_patterns)\n",
    "        question = pattern.format(topic)\n",
    "        questions.append([question])\n",
    "\n",
    "    file_path = os.path.join(output_dataset.path, \"random_questions.csv\")\n",
    "    with open(file_path, \"w\", newline=\"\") as file:\n",
    "        writer = csv.writer(file)\n",
    "        writer.writerow([\"Question\"])\n",
    "        writer.writerows(questions)\n",
    "    \n",
    "    print(\"Questions exported to\", file_path)\n"
   ]
  },
  {
   "cell_type": "code",
   "execution_count": 42,
   "id": "d83dfd14-a29b-47ce-8e47-408a229adcad",
   "metadata": {},
   "outputs": [],
   "source": [
    "from kfp import local"
   ]
  },
  {
   "cell_type": "code",
   "execution_count": 43,
   "id": "6f63d0b8-a937-411c-98d1-f7199b20efc7",
   "metadata": {},
   "outputs": [],
   "source": [
    "local.init(runner=local.SubprocessRunner())"
   ]
  },
  {
   "cell_type": "code",
   "execution_count": 40,
   "id": "cf27eb14-1150-4ec6-a669-96d4a4ec1933",
   "metadata": {},
   "outputs": [],
   "source": [
    "from kfp.v2 import dsl\n",
    "from kfp.v2.dsl import pipeline\n",
    "import kfp\n",
    "\n",
    "@pipeline(\n",
    "    name='City Wikipedia Summaries Pipeline',\n",
    "    description='A pipeline to pull city Wikipedia summaries, generate embeddings, and create random questions.',\n",
    "    pipeline_root='./'\n",
    ")\n",
    "def city_wiki_pipeline():\n",
    "    pull_task = pull_state_data()\n",
    "    score_task = score_data(input_dataset=pull_task.outputs['output_dataset'])\n",
    "    generate_question_task = generate_random_question()\n",
    "\n",
    "if __name__ == '__main__':\n",
    "    pass\n",
    "    # kfp.v2.compiler.Compiler().compile(city_wiki_pipeline, 'city_wiki_pipeline.json')"
   ]
  },
  {
   "cell_type": "code",
   "execution_count": 41,
   "id": "87dc2881-444a-4c77-8004-da86d2fe67b1",
   "metadata": {},
   "outputs": [
    {
     "name": "stderr",
     "output_type": "stream",
     "text": [
      "/Users/farceo/dev/Python/demos/feast_odfv_profiling/venv/lib/python3.12/site-packages/kfp/compiler/compiler.py:81: DeprecationWarning: Compiling to JSON is deprecated and will be removed in a future version. Please compile to a YAML file by providing a file path with a .yaml extension instead.\n",
      "  builder.write_pipeline_spec_to_file(\n"
     ]
    }
   ],
   "source": [
    "kfp.v2.compiler.Compiler().compile(city_wiki_pipeline, 'city_wiki_pipeline.json')"
   ]
  },
  {
   "cell_type": "code",
   "execution_count": 47,
   "id": "063f09aa-1462-444f-9cd7-87900eddd578",
   "metadata": {},
   "outputs": [
    {
     "ename": "RuntimeError",
     "evalue": "Graph component has no local execution mode.",
     "output_type": "error",
     "traceback": [
      "\u001b[0;31m---------------------------------------------------------------------------\u001b[0m",
      "\u001b[0;31mRuntimeError\u001b[0m                              Traceback (most recent call last)",
      "Cell \u001b[0;32mIn[47], line 1\u001b[0m\n\u001b[0;32m----> 1\u001b[0m \u001b[43mcity_wiki_pipeline\u001b[49m\u001b[38;5;241;43m.\u001b[39;49m\u001b[43mexecute\u001b[49m\u001b[43m(\u001b[49m\u001b[43m)\u001b[49m\n",
      "File \u001b[0;32m~/dev/Python/demos/feast_odfv_profiling/venv/lib/python3.12/site-packages/kfp/dsl/graph_component.py:91\u001b[0m, in \u001b[0;36mGraphComponent.execute\u001b[0;34m(self, **kwargs)\u001b[0m\n\u001b[1;32m     90\u001b[0m \u001b[38;5;28;01mdef\u001b[39;00m \u001b[38;5;21mexecute\u001b[39m(\u001b[38;5;28mself\u001b[39m, \u001b[38;5;241m*\u001b[39m\u001b[38;5;241m*\u001b[39mkwargs):\n\u001b[0;32m---> 91\u001b[0m     \u001b[38;5;28;01mraise\u001b[39;00m \u001b[38;5;167;01mRuntimeError\u001b[39;00m(\u001b[38;5;124m'\u001b[39m\u001b[38;5;124mGraph component has no local execution mode.\u001b[39m\u001b[38;5;124m'\u001b[39m)\n",
      "\u001b[0;31mRuntimeError\u001b[0m: Graph component has no local execution mode."
     ]
    }
   ],
   "source": [
    "city_wiki_pipeline.execute()"
   ]
  }
 ],
 "metadata": {
  "kernelspec": {
   "display_name": "Python 3 (ipykernel)",
   "language": "python",
   "name": "python3"
  },
  "language_info": {
   "codemirror_mode": {
    "name": "ipython",
    "version": 3
   },
   "file_extension": ".py",
   "mimetype": "text/x-python",
   "name": "python",
   "nbconvert_exporter": "python",
   "pygments_lexer": "ipython3",
   "version": "3.12.3"
  }
 },
 "nbformat": 4,
 "nbformat_minor": 5
}
