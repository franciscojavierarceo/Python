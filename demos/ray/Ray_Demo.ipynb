{
 "cells": [
  {
   "cell_type": "markdown",
   "id": "e0a1eacf-053f-4499-898d-a62e46fd8d30",
   "metadata": {},
   "source": [
    "# Install"
   ]
  },
  {
   "cell_type": "code",
   "execution_count": null,
   "id": "14b6b604-a877-4939-acae-3ca7b42db163",
   "metadata": {},
   "outputs": [],
   "source": [
    "pip install torch"
   ]
  },
  {
   "cell_type": "code",
   "execution_count": null,
   "id": "344d6a12-592d-4f6e-bc2a-1729b1c4090f",
   "metadata": {},
   "outputs": [],
   "source": [
    "pip install torchvision"
   ]
  },
  {
   "cell_type": "markdown",
   "id": "2426f211-af6d-4fea-b291-296a3eaaa91c",
   "metadata": {},
   "source": [
    "# Imports and define NN"
   ]
  },
  {
   "cell_type": "code",
   "execution_count": 1,
   "id": "82a9870d-4f3f-4db8-8498-7562fee8205e",
   "metadata": {},
   "outputs": [],
   "source": [
    "import ray\n",
    "from ray.train.torch import TorchTrainer\n",
    "from torchvision import datasets, transforms\n",
    "import os\n",
    "import tempfile\n",
    "import torch\n",
    "import torch.nn.functional as F\n",
    "import torch.nn as nn\n",
    "import torch.optim as optim\n",
    "from torch.nn.parallel import DistributedDataParallel\n",
    "\n",
    "class NeuralNetwork(nn.Module):\n",
    "    def __init__(self):\n",
    "        super(NeuralNetwork, self).__init__()\n",
    "        self.layer1 = nn.Linear(1, 32)\n",
    "        self.relu = nn.ReLU()\n",
    "        self.layer2 = nn.Linear(32, 1)\n",
    "\n",
    "    def forward(self, input):\n",
    "        return self.layer2(self.relu(self.layer1(input)))"
   ]
  },
  {
   "cell_type": "markdown",
   "id": "acd98728-f29f-4810-af48-5425299098e8",
   "metadata": {},
   "source": [
    "# Define Training Loop"
   ]
  },
  {
   "cell_type": "code",
   "execution_count": 2,
   "id": "4958bbbe-a126-4b0c-bad2-596fe4217446",
   "metadata": {},
   "outputs": [],
   "source": [
    "# Training loop.\n",
    "def train_loop_per_worker(config):\n",
    "\n",
    "    # Read configurations.\n",
    "    lr = config[\"lr\"]\n",
    "    batch_size = config[\"batch_size\"]\n",
    "    num_epochs = config[\"num_epochs\"]\n",
    "\n",
    "    # Fetch training dataset.\n",
    "    train_dataset_shard = ray.train.get_dataset_shard(\"train\")\n",
    "\n",
    "    # Instantiate and prepare model for training.\n",
    "    model = NeuralNetwork()\n",
    "    model = ray.train.torch.prepare_model(model)\n",
    "\n",
    "    # Define loss and optimizer.\n",
    "    loss_fn = nn.MSELoss()\n",
    "    optimizer = torch.optim.SGD(model.parameters(), lr=lr)\n",
    "\n",
    "    # Create data loader.\n",
    "    dataloader = train_dataset_shard.iter_torch_batches(\n",
    "        batch_size=batch_size, dtypes=torch.float\n",
    "    )\n",
    "\n",
    "    # Train multiple epochs.\n",
    "    for epoch in range(num_epochs):\n",
    "\n",
    "        # Train epoch.\n",
    "        for batch in dataloader:\n",
    "            output = model(batch[\"input\"])\n",
    "            loss = loss_fn(output, batch[\"label\"])\n",
    "            optimizer.zero_grad()\n",
    "            loss.backward()\n",
    "            optimizer.step()\n",
    "\n",
    "        # Create checkpoint.\n",
    "        base_model = (model.module\n",
    "            if isinstance(model, DistributedDataParallel) else model)\n",
    "        checkpoint_dir = tempfile.mkdtemp()\n",
    "        torch.save(\n",
    "            {\"model_state_dict\": base_model.state_dict()},\n",
    "            os.path.join(checkpoint_dir, \"model.pt\"),\n",
    "        )\n",
    "        checkpoint = Checkpoint.from_directory(checkpoint_dir)\n",
    "\n",
    "        # Report metrics and checkpoint.\n",
    "        ray.train.report({\"loss\": loss.item()}, checkpoint=checkpoint)"
   ]
  },
  {
   "cell_type": "markdown",
   "id": "f66bd770-11a4-418b-aa36-bb7719271e5f",
   "metadata": {},
   "source": [
    "# Initializing the Cluster"
   ]
  },
  {
   "cell_type": "code",
   "execution_count": 3,
   "id": "52f78fe9-3085-4185-baad-9513c3a0a651",
   "metadata": {
    "scrolled": true
   },
   "outputs": [
    {
     "name": "stderr",
     "output_type": "stream",
     "text": [
      "2024-07-11 23:15:52,313\tINFO worker.py:1743 -- Started a local Ray instance. View the dashboard at \u001b[1m\u001b[32m127.0.0.1:8265 \u001b[39m\u001b[22m\n"
     ]
    },
    {
     "data": {
      "application/vnd.jupyter.widget-view+json": {
       "model_id": "1bd3c9cc636e47e791723c5220ae5f39",
       "version_major": 2,
       "version_minor": 0
      },
      "text/html": [
       "<div class=\"lm-Widget p-Widget lm-Panel p-Panel jp-Cell-outputWrapper\">\n",
       "    <div style=\"margin-left: 50px;display: flex;flex-direction: row;align-items: center\">\n",
       "        <div class=\"jp-RenderedHTMLCommon\" style=\"display: flex; flex-direction: row;\">\n",
       "  <svg viewBox=\"0 0 567 224\" fill=\"none\" xmlns=\"http://www.w3.org/2000/svg\" style=\"height: 3em;\">\n",
       "    <g clip-path=\"url(#clip0_4338_178347)\">\n",
       "        <path d=\"M341.29 165.561H355.29L330.13 129.051C345.63 123.991 354.21 112.051 354.21 94.2307C354.21 71.3707 338.72 58.1807 311.88 58.1807H271V165.561H283.27V131.661H311.8C314.25 131.661 316.71 131.501 319.01 131.351L341.25 165.561H341.29ZM283.29 119.851V70.0007H311.82C331.3 70.0007 342.34 78.2907 342.34 94.5507C342.34 111.271 331.34 119.861 311.82 119.861L283.29 119.851ZM451.4 138.411L463.4 165.561H476.74L428.74 58.1807H416L367.83 165.561H380.83L392.83 138.411H451.4ZM446.19 126.601H398L422 72.1407L446.24 126.601H446.19ZM526.11 128.741L566.91 58.1807H554.35L519.99 114.181L485.17 58.1807H472.44L514.01 129.181V165.541H526.13V128.741H526.11Z\" fill=\"var(--jp-ui-font-color0)\"/>\n",
       "        <path d=\"M82.35 104.44C84.0187 97.8827 87.8248 92.0678 93.1671 87.9146C98.5094 83.7614 105.083 81.5067 111.85 81.5067C118.617 81.5067 125.191 83.7614 130.533 87.9146C135.875 92.0678 139.681 97.8827 141.35 104.44H163.75C164.476 101.562 165.622 98.8057 167.15 96.2605L127.45 56.5605C121.071 60.3522 113.526 61.6823 106.235 60.3005C98.9443 58.9187 92.4094 54.9203 87.8602 49.0574C83.3109 43.1946 81.0609 35.8714 81.5332 28.4656C82.0056 21.0599 85.1679 14.0819 90.4252 8.8446C95.6824 3.60726 102.672 0.471508 110.08 0.0272655C117.487 -0.416977 124.802 1.86091 130.647 6.4324C136.493 11.0039 140.467 17.5539 141.821 24.8501C143.175 32.1463 141.816 39.6859 138 46.0505L177.69 85.7505C182.31 82.9877 187.58 81.4995 192.962 81.4375C198.345 81.3755 203.648 82.742 208.33 85.3976C213.012 88.0532 216.907 91.9029 219.616 96.5544C222.326 101.206 223.753 106.492 223.753 111.875C223.753 117.258 222.326 122.545 219.616 127.197C216.907 131.848 213.012 135.698 208.33 138.353C203.648 141.009 198.345 142.375 192.962 142.313C187.58 142.251 182.31 140.763 177.69 138L138 177.7C141.808 184.071 143.155 191.614 141.79 198.91C140.424 206.205 136.44 212.75 130.585 217.313C124.731 221.875 117.412 224.141 110.004 223.683C102.596 223.226 95.6103 220.077 90.3621 214.828C85.1139 209.58 81.9647 202.595 81.5072 195.187C81.0497 187.779 83.3154 180.459 87.878 174.605C92.4405 168.751 98.9853 164.766 106.281 163.401C113.576 162.035 121.119 163.383 127.49 167.19L167.19 127.49C165.664 124.941 164.518 122.182 163.79 119.3H141.39C139.721 125.858 135.915 131.673 130.573 135.826C125.231 139.98 118.657 142.234 111.89 142.234C105.123 142.234 98.5494 139.98 93.2071 135.826C87.8648 131.673 84.0587 125.858 82.39 119.3H60C58.1878 126.495 53.8086 132.78 47.6863 136.971C41.5641 141.163 34.1211 142.972 26.7579 142.059C19.3947 141.146 12.6191 137.574 7.70605 132.014C2.79302 126.454 0.0813599 119.29 0.0813599 111.87C0.0813599 104.451 2.79302 97.2871 7.70605 91.7272C12.6191 86.1673 19.3947 82.5947 26.7579 81.6817C34.1211 80.7686 41.5641 82.5781 47.6863 86.7696C53.8086 90.9611 58.1878 97.2456 60 104.44H82.35ZM100.86 204.32C103.407 206.868 106.759 208.453 110.345 208.806C113.93 209.159 117.527 208.258 120.522 206.256C123.517 204.254 125.725 201.276 126.771 197.828C127.816 194.38 127.633 190.677 126.253 187.349C124.874 184.021 122.383 181.274 119.205 179.577C116.027 177.88 112.359 177.337 108.826 178.042C105.293 178.746 102.113 180.654 99.8291 183.44C97.5451 186.226 96.2979 189.718 96.3 193.32C96.2985 195.364 96.7006 197.388 97.4831 199.275C98.2656 201.163 99.4132 202.877 100.86 204.32ZM204.32 122.88C206.868 120.333 208.453 116.981 208.806 113.396C209.159 109.811 208.258 106.214 206.256 103.219C204.254 100.223 201.275 98.0151 197.827 96.97C194.38 95.9249 190.676 96.1077 187.348 97.4873C184.02 98.8669 181.274 101.358 179.577 104.536C177.879 107.714 177.337 111.382 178.041 114.915C178.746 118.448 180.653 121.627 183.439 123.911C186.226 126.195 189.717 127.443 193.32 127.44C195.364 127.443 197.388 127.042 199.275 126.259C201.163 125.476 202.878 124.328 204.32 122.88ZM122.88 19.4205C120.333 16.8729 116.981 15.2876 113.395 14.9347C109.81 14.5817 106.213 15.483 103.218 17.4849C100.223 19.4868 98.0146 22.4654 96.9696 25.9131C95.9245 29.3608 96.1073 33.0642 97.4869 36.3922C98.8665 39.7202 101.358 42.4668 104.535 44.1639C107.713 45.861 111.381 46.4036 114.914 45.6992C118.447 44.9949 121.627 43.0871 123.911 40.301C126.195 37.515 127.442 34.0231 127.44 30.4205C127.44 28.3772 127.038 26.3539 126.255 24.4664C125.473 22.5788 124.326 20.8642 122.88 19.4205ZM19.42 100.86C16.8725 103.408 15.2872 106.76 14.9342 110.345C14.5813 113.93 15.4826 117.527 17.4844 120.522C19.4863 123.518 22.4649 125.726 25.9127 126.771C29.3604 127.816 33.0638 127.633 36.3918 126.254C39.7198 124.874 42.4664 122.383 44.1635 119.205C45.8606 116.027 46.4032 112.359 45.6988 108.826C44.9944 105.293 43.0866 102.114 40.3006 99.8296C37.5145 97.5455 34.0227 96.2983 30.42 96.3005C26.2938 96.3018 22.337 97.9421 19.42 100.86ZM100.86 100.86C98.3125 103.408 96.7272 106.76 96.3742 110.345C96.0213 113.93 96.9226 117.527 98.9244 120.522C100.926 123.518 103.905 125.726 107.353 126.771C110.8 127.816 114.504 127.633 117.832 126.254C121.16 124.874 123.906 122.383 125.604 119.205C127.301 116.027 127.843 112.359 127.139 108.826C126.434 105.293 124.527 102.114 121.741 99.8296C118.955 97.5455 115.463 96.2983 111.86 96.3005C109.817 96.299 107.793 96.701 105.905 97.4835C104.018 98.2661 102.303 99.4136 100.86 100.86Z\" fill=\"#00AEEF\"/>\n",
       "    </g>\n",
       "    <defs>\n",
       "        <clipPath id=\"clip0_4338_178347\">\n",
       "            <rect width=\"566.93\" height=\"223.75\" fill=\"white\"/>\n",
       "        </clipPath>\n",
       "    </defs>\n",
       "  </svg>\n",
       "</div>\n",
       "\n",
       "        <table class=\"jp-RenderedHTMLCommon\" style=\"border-collapse: collapse;color: var(--jp-ui-font-color1);font-size: var(--jp-ui-font-size1);\">\n",
       "    <tr>\n",
       "        <td style=\"text-align: left\"><b>Python version:</b></td>\n",
       "        <td style=\"text-align: left\"><b>3.10.14</b></td>\n",
       "    </tr>\n",
       "    <tr>\n",
       "        <td style=\"text-align: left\"><b>Ray version:</b></td>\n",
       "        <td style=\"text-align: left\"><b>2.10.0</b></td>\n",
       "    </tr>\n",
       "    <tr>\n",
       "    <td style=\"text-align: left\"><b>Dashboard:</b></td>\n",
       "    <td style=\"text-align: left\"><b><a href=\"http://127.0.0.1:8265\" target=\"_blank\">http://127.0.0.1:8265</a></b></td>\n",
       "</tr>\n",
       "\n",
       "</table>\n",
       "\n",
       "    </div>\n",
       "</div>\n"
      ],
      "text/plain": [
       "RayContext(dashboard_url='127.0.0.1:8265', python_version='3.10.14', ray_version='2.10.0', ray_commit='09abba26b5bf2707639bb637c208d062a47b46f6')"
      ]
     },
     "execution_count": 3,
     "metadata": {},
     "output_type": "execute_result"
    },
    {
     "name": "stderr",
     "output_type": "stream",
     "text": [
      "\u001b[36m(RayTrainWorker pid=2027)\u001b[0m Setting up process group for: env:// [rank=0, world_size=4]\n",
      "\u001b[36m(TorchTrainer pid=2010)\u001b[0m Started distributed worker processes: \n",
      "\u001b[36m(TorchTrainer pid=2010)\u001b[0m - (ip=127.0.0.1, pid=2027) world_rank=0, local_rank=0, node_rank=0\n",
      "\u001b[36m(TorchTrainer pid=2010)\u001b[0m - (ip=127.0.0.1, pid=2028) world_rank=1, local_rank=1, node_rank=0\n",
      "\u001b[36m(TorchTrainer pid=2010)\u001b[0m - (ip=127.0.0.1, pid=2029) world_rank=2, local_rank=2, node_rank=0\n",
      "\u001b[36m(TorchTrainer pid=2010)\u001b[0m - (ip=127.0.0.1, pid=2030) world_rank=3, local_rank=3, node_rank=0\n",
      "\u001b[36m(RayTrainWorker pid=2027)\u001b[0m Moving model to device: cpu\n",
      "\u001b[36m(RayTrainWorker pid=2027)\u001b[0m Wrapping provided model in DistributedDataParallel.\n",
      "\u001b[36m(SplitCoordinator pid=2037)\u001b[0m WARNING: All log messages before absl::InitializeLog() is called are written to STDERR\n",
      "\u001b[36m(SplitCoordinator pid=2037)\u001b[0m I0000 00:00:1720754211.920469 4292714 config.cc:230] gRPC experiments enabled: call_status_override_on_cancellation, event_engine_dns, event_engine_listener, http2_stats_fix, monitoring_experiment, pick_first_new, trace_record_callops, work_serializer_clears_time_cache, work_serializer_dispatch\n",
      "\u001b[36m(SplitCoordinator pid=2037)\u001b[0m I0000 00:00:1720754211.923111 4292765 tcp_posix.cc:809] IOMGR endpoint shutdown\n",
      "\u001b[36m(SplitCoordinator pid=2037)\u001b[0m I0000 00:00:1720754211.923184 4292765 work_stealing_thread_pool.cc:269] WorkStealingThreadPoolImpl::Quiesce\n",
      "\u001b[36m(SplitCoordinator pid=2037)\u001b[0m Starting execution of Dataset. Full log is in /tmp/ray/session_2024-07-11_23-15-50_591616_1453/logs/ray-data.log\n",
      "\u001b[36m(SplitCoordinator pid=2037)\u001b[0m Execution plan of Dataset: InputDataBuffer[Input] -> OutputSplitter[split(4, equal=True)]\n",
      "\u001b[36m(SplitCoordinator pid=2037)\u001b[0m \n",
      "\u001b[36m(RayTrainWorker pid=2029)\u001b[0m Checkpoint successfully created at: Checkpoint(filesystem=local, path=/Users/farceo/ray_results/TorchTrainer_2024-07-11_23-16-45/TorchTrainer_2b370_00000_0_2024-07-11_23-16-45/checkpoint_000000)\n",
      "\u001b[36m(SplitCoordinator pid=2037)\u001b[0m Starting execution of Dataset. Full log is in /tmp/ray/session_2024-07-11_23-15-50_591616_1453/logs/ray-data.log\n",
      "\u001b[36m(SplitCoordinator pid=2037)\u001b[0m Execution plan of Dataset: InputDataBuffer[Input] -> OutputSplitter[split(4, equal=True)]\n",
      "\u001b[36m(SplitCoordinator pid=2037)\u001b[0m \n",
      "\u001b[36m(SplitCoordinator pid=2037)\u001b[0m Starting execution of Dataset. Full log is in /tmp/ray/session_2024-07-11_23-15-50_591616_1453/logs/ray-data.log\n",
      "\u001b[36m(SplitCoordinator pid=2037)\u001b[0m Execution plan of Dataset: InputDataBuffer[Input] -> OutputSplitter[split(4, equal=True)]\n",
      "\u001b[36m(SplitCoordinator pid=2037)\u001b[0m \n",
      "\u001b[36m(SplitCoordinator pid=2037)\u001b[0m Starting execution of Dataset. Full log is in /tmp/ray/session_2024-07-11_23-15-50_591616_1453/logs/ray-data.log\n",
      "\u001b[36m(SplitCoordinator pid=2037)\u001b[0m Execution plan of Dataset: InputDataBuffer[Input] -> OutputSplitter[split(4, equal=True)]\n",
      "\u001b[36m(SplitCoordinator pid=2037)\u001b[0m \n",
      "\u001b[36m(SplitCoordinator pid=2037)\u001b[0m Starting execution of Dataset. Full log is in /tmp/ray/session_2024-07-11_23-15-50_591616_1453/logs/ray-data.log\n",
      "\u001b[36m(SplitCoordinator pid=2037)\u001b[0m Execution plan of Dataset: InputDataBuffer[Input] -> OutputSplitter[split(4, equal=True)]\n",
      "\u001b[36m(SplitCoordinator pid=2037)\u001b[0m \n",
      "\u001b[36m(SplitCoordinator pid=2037)\u001b[0m Starting execution of Dataset. Full log is in /tmp/ray/session_2024-07-11_23-15-50_591616_1453/logs/ray-data.log\n",
      "\u001b[36m(SplitCoordinator pid=2037)\u001b[0m Execution plan of Dataset: InputDataBuffer[Input] -> OutputSplitter[split(4, equal=True)]\n",
      "\u001b[36m(SplitCoordinator pid=2037)\u001b[0m \n",
      "\u001b[36m(SplitCoordinator pid=2037)\u001b[0m Starting execution of Dataset. Full log is in /tmp/ray/session_2024-07-11_23-15-50_591616_1453/logs/ray-data.log\n",
      "\u001b[36m(SplitCoordinator pid=2037)\u001b[0m Execution plan of Dataset: InputDataBuffer[Input] -> OutputSplitter[split(4, equal=True)]\n",
      "\u001b[36m(SplitCoordinator pid=2037)\u001b[0m \n",
      "\u001b[36m(SplitCoordinator pid=2037)\u001b[0m Starting execution of Dataset. Full log is in /tmp/ray/session_2024-07-11_23-15-50_591616_1453/logs/ray-data.log\n",
      "\u001b[36m(SplitCoordinator pid=2037)\u001b[0m Execution plan of Dataset: InputDataBuffer[Input] -> OutputSplitter[split(4, equal=True)]\n",
      "\u001b[36m(SplitCoordinator pid=2037)\u001b[0m \n",
      "\u001b[36m(SplitCoordinator pid=2037)\u001b[0m Starting execution of Dataset. Full log is in /tmp/ray/session_2024-07-11_23-15-50_591616_1453/logs/ray-data.log\n",
      "\u001b[36m(SplitCoordinator pid=2037)\u001b[0m Execution plan of Dataset: InputDataBuffer[Input] -> OutputSplitter[split(4, equal=True)]\n",
      "\u001b[36m(SplitCoordinator pid=2037)\u001b[0m \n",
      "\u001b[36m(SplitCoordinator pid=2037)\u001b[0m Starting execution of Dataset. Full log is in /tmp/ray/session_2024-07-11_23-15-50_591616_1453/logs/ray-data.log\n",
      "\u001b[36m(SplitCoordinator pid=2037)\u001b[0m Execution plan of Dataset: InputDataBuffer[Input] -> OutputSplitter[split(4, equal=True)]\n",
      "\u001b[36m(SplitCoordinator pid=2037)\u001b[0m \n",
      "\u001b[36m(SplitCoordinator pid=2037)\u001b[0m Starting execution of Dataset. Full log is in /tmp/ray/session_2024-07-11_23-15-50_591616_1453/logs/ray-data.log\n",
      "\u001b[36m(SplitCoordinator pid=2037)\u001b[0m Execution plan of Dataset: InputDataBuffer[Input] -> OutputSplitter[split(4, equal=True)]\n",
      "\u001b[36m(SplitCoordinator pid=2037)\u001b[0m \n",
      "\u001b[36m(SplitCoordinator pid=2037)\u001b[0m Starting execution of Dataset. Full log is in /tmp/ray/session_2024-07-11_23-15-50_591616_1453/logs/ray-data.log\n",
      "\u001b[36m(SplitCoordinator pid=2037)\u001b[0m Execution plan of Dataset: InputDataBuffer[Input] -> OutputSplitter[split(4, equal=True)]\n",
      "\u001b[36m(SplitCoordinator pid=2037)\u001b[0m \n",
      "\u001b[36m(SplitCoordinator pid=2037)\u001b[0m Starting execution of Dataset. Full log is in /tmp/ray/session_2024-07-11_23-15-50_591616_1453/logs/ray-data.log\n",
      "\u001b[36m(SplitCoordinator pid=2037)\u001b[0m Execution plan of Dataset: InputDataBuffer[Input] -> OutputSplitter[split(4, equal=True)]\n",
      "\u001b[36m(SplitCoordinator pid=2037)\u001b[0m \n",
      "\u001b[36m(SplitCoordinator pid=2037)\u001b[0m Starting execution of Dataset. Full log is in /tmp/ray/session_2024-07-11_23-15-50_591616_1453/logs/ray-data.log\n",
      "\u001b[36m(SplitCoordinator pid=2037)\u001b[0m Execution plan of Dataset: InputDataBuffer[Input] -> OutputSplitter[split(4, equal=True)]\n",
      "\u001b[36m(SplitCoordinator pid=2037)\u001b[0m \n",
      "\u001b[36m(SplitCoordinator pid=2037)\u001b[0m Starting execution of Dataset. Full log is in /tmp/ray/session_2024-07-11_23-15-50_591616_1453/logs/ray-data.log\n",
      "\u001b[36m(SplitCoordinator pid=2037)\u001b[0m Execution plan of Dataset: InputDataBuffer[Input] -> OutputSplitter[split(4, equal=True)]\n",
      "\u001b[36m(SplitCoordinator pid=2037)\u001b[0m \n",
      "\u001b[36m(SplitCoordinator pid=2037)\u001b[0m Starting execution of Dataset. Full log is in /tmp/ray/session_2024-07-11_23-15-50_591616_1453/logs/ray-data.log\n",
      "\u001b[36m(SplitCoordinator pid=2037)\u001b[0m Execution plan of Dataset: InputDataBuffer[Input] -> OutputSplitter[split(4, equal=True)]\n",
      "\u001b[36m(SplitCoordinator pid=2037)\u001b[0m \n",
      "\u001b[36m(SplitCoordinator pid=2037)\u001b[0m Starting execution of Dataset. Full log is in /tmp/ray/session_2024-07-11_23-15-50_591616_1453/logs/ray-data.log\n",
      "\u001b[36m(SplitCoordinator pid=2037)\u001b[0m Execution plan of Dataset: InputDataBuffer[Input] -> OutputSplitter[split(4, equal=True)]\n",
      "\u001b[36m(SplitCoordinator pid=2037)\u001b[0m \n",
      "\u001b[36m(SplitCoordinator pid=2037)\u001b[0m Starting execution of Dataset. Full log is in /tmp/ray/session_2024-07-11_23-15-50_591616_1453/logs/ray-data.log\n",
      "\u001b[36m(SplitCoordinator pid=2037)\u001b[0m Execution plan of Dataset: InputDataBuffer[Input] -> OutputSplitter[split(4, equal=True)]\n",
      "\u001b[36m(SplitCoordinator pid=2037)\u001b[0m \n",
      "\u001b[36m(SplitCoordinator pid=2037)\u001b[0m Starting execution of Dataset. Full log is in /tmp/ray/session_2024-07-11_23-15-50_591616_1453/logs/ray-data.log\n",
      "\u001b[36m(SplitCoordinator pid=2037)\u001b[0m Execution plan of Dataset: InputDataBuffer[Input] -> OutputSplitter[split(4, equal=True)]\n",
      "\u001b[36m(SplitCoordinator pid=2037)\u001b[0m \n",
      "\u001b[36m(SplitCoordinator pid=2037)\u001b[0m Starting execution of Dataset. Full log is in /tmp/ray/session_2024-07-11_23-15-50_591616_1453/logs/ray-data.log\n",
      "\u001b[36m(SplitCoordinator pid=2037)\u001b[0m Execution plan of Dataset: InputDataBuffer[Input] -> OutputSplitter[split(4, equal=True)]\n",
      "\u001b[36m(SplitCoordinator pid=2037)\u001b[0m \n"
     ]
    }
   ],
   "source": [
    "# Initialize Ray\n",
    "ray.init()"
   ]
  },
  {
   "cell_type": "code",
   "execution_count": 5,
   "id": "224508e5-3a6f-4df6-a8cd-d6e79b4140de",
   "metadata": {},
   "outputs": [],
   "source": [
    "from ray.train import Checkpoint, CheckpointConfig, RunConfig, ScalingConfig, FailureConfig\n",
    "from ray.train.torch import TorchTrainer\n",
    "\n",
    "max_failures = 1\n",
    "num_workers = 4\n",
    "use_gpu = False\n",
    "train_loop_config = {\"num_epochs\": 20, \"lr\": 0.01, \"batch_size\": 32}\n",
    "scaling_config = ScalingConfig(num_workers=num_workers, use_gpu=use_gpu)\n",
    "run_config = RunConfig(checkpoint_config=CheckpointConfig(num_to_keep=1), failure_config=FailureConfig(max_failures))\n",
    "\n",
    "# Define datasets.\n",
    "train_dataset = ray.data.from_items(\n",
    "    [{\"input\": [x], \"label\": [2 * x + 1]} for x in range(2000)]\n",
    ")\n",
    "datasets = {\"train\": train_dataset}\n",
    "\n",
    "# Initialize the Trainer.\n",
    "trainer = TorchTrainer(\n",
    "    train_loop_per_worker=train_loop_per_worker,\n",
    "    train_loop_config=train_loop_config,\n",
    "    scaling_config=scaling_config,\n",
    "    run_config=run_config,\n",
    "    datasets=datasets,\n",
    ")"
   ]
  },
  {
   "cell_type": "markdown",
   "id": "3f555f43-0a66-47fd-9dab-b8ee4994ec6c",
   "metadata": {},
   "source": [
    "# Running Training Job"
   ]
  },
  {
   "cell_type": "code",
   "execution_count": 6,
   "id": "86f95828-8634-4b16-acc8-57c44bacb8b2",
   "metadata": {
    "scrolled": true
   },
   "outputs": [
    {
     "data": {
      "text/html": [
       "<div class=\"tuneStatus\">\n",
       "  <div style=\"display: flex;flex-direction: row\">\n",
       "    <div style=\"display: flex;flex-direction: column;\">\n",
       "      <h3>Tune Status</h3>\n",
       "      <table>\n",
       "<tbody>\n",
       "<tr><td>Current time:</td><td>2024-07-11 23:16:56</td></tr>\n",
       "<tr><td>Running for: </td><td>00:00:10.88        </td></tr>\n",
       "<tr><td>Memory:      </td><td>22.8/32.0 GiB      </td></tr>\n",
       "</tbody>\n",
       "</table>\n",
       "    </div>\n",
       "    <div class=\"vDivider\"></div>\n",
       "    <div class=\"systemInfo\">\n",
       "      <h3>System Info</h3>\n",
       "      Using FIFO scheduling algorithm.<br>Logical resource usage: 5.0/10 CPUs, 0/0 GPUs\n",
       "    </div>\n",
       "    \n",
       "  </div>\n",
       "  <div class=\"hDivider\"></div>\n",
       "  <div class=\"trialStatus\">\n",
       "    <h3>Trial Status</h3>\n",
       "    <table>\n",
       "<thead>\n",
       "<tr><th>Trial name              </th><th>status    </th><th>loc           </th><th style=\"text-align: right;\">  iter</th><th style=\"text-align: right;\">  total time (s)</th><th style=\"text-align: right;\">       loss</th></tr>\n",
       "</thead>\n",
       "<tbody>\n",
       "<tr><td>TorchTrainer_2b370_00000</td><td>TERMINATED</td><td>127.0.0.1:2010</td><td style=\"text-align: right;\">    20</td><td style=\"text-align: right;\">         7.39531</td><td style=\"text-align: right;\">5.71259e+12</td></tr>\n",
       "</tbody>\n",
       "</table>\n",
       "  </div>\n",
       "</div>\n",
       "<style>\n",
       ".tuneStatus {\n",
       "  color: var(--jp-ui-font-color1);\n",
       "}\n",
       ".tuneStatus .systemInfo {\n",
       "  display: flex;\n",
       "  flex-direction: column;\n",
       "}\n",
       ".tuneStatus td {\n",
       "  white-space: nowrap;\n",
       "}\n",
       ".tuneStatus .trialStatus {\n",
       "  display: flex;\n",
       "  flex-direction: column;\n",
       "}\n",
       ".tuneStatus h3 {\n",
       "  font-weight: bold;\n",
       "}\n",
       ".tuneStatus .hDivider {\n",
       "  border-bottom-width: var(--jp-border-width);\n",
       "  border-bottom-color: var(--jp-border-color0);\n",
       "  border-bottom-style: solid;\n",
       "}\n",
       ".tuneStatus .vDivider {\n",
       "  border-left-width: var(--jp-border-width);\n",
       "  border-left-color: var(--jp-border-color0);\n",
       "  border-left-style: solid;\n",
       "  margin: 0.5em 1em 0.5em 1em;\n",
       "}\n",
       "</style>\n"
      ],
      "text/plain": [
       "<IPython.core.display.HTML object>"
      ]
     },
     "metadata": {},
     "output_type": "display_data"
    },
    {
     "data": {
      "application/vnd.jupyter.widget-view+json": {
       "model_id": "a641f180e5f947eb9209712d6e3f3eab",
       "version_major": 2,
       "version_minor": 0
      },
      "text/plain": [
       "(pid=2037) - split(4, equal=True) 1:   0%|                                                                    …"
      ]
     },
     "metadata": {},
     "output_type": "display_data"
    },
    {
     "data": {
      "application/vnd.jupyter.widget-view+json": {
       "model_id": "30f8218835c44c998375cac6f55d088e",
       "version_major": 2,
       "version_minor": 0
      },
      "text/plain": [
       "(pid=2037) Running 0:   0%|                                                                                   …"
      ]
     },
     "metadata": {},
     "output_type": "display_data"
    },
    {
     "data": {
      "application/vnd.jupyter.widget-view+json": {
       "model_id": "aa8cf80789a24e369f10ed7158ef493f",
       "version_major": 2,
       "version_minor": 0
      },
      "text/plain": [
       "(pid=2037) - split(4, equal=True) 1:   0%|                                                                    …"
      ]
     },
     "metadata": {},
     "output_type": "display_data"
    },
    {
     "data": {
      "application/vnd.jupyter.widget-view+json": {
       "model_id": "5aeaac1374c649f3b57e4edcd5ff1cb5",
       "version_major": 2,
       "version_minor": 0
      },
      "text/plain": [
       "(pid=2037) Running 0:   0%|                                                                                   …"
      ]
     },
     "metadata": {},
     "output_type": "display_data"
    },
    {
     "name": "stderr",
     "output_type": "stream",
     "text": [
      "2024-07-11 23:16:52,311\tWARNING experiment_state.py:205 -- Experiment state snapshotting has been triggered multiple times in the last 5.0 seconds. A snapshot is forced if `CheckpointConfig(num_to_keep)` is set, and a trial has checkpointed >= `num_to_keep` times since the last snapshot.\n",
      "You may want to consider increasing the `CheckpointConfig(num_to_keep)` or decreasing the frequency of saving checkpoints.\n",
      "You can suppress this error by setting the environment variable TUNE_WARN_EXCESSIVE_EXPERIMENT_CHECKPOINT_SYNC_THRESHOLD_S to a smaller value than the current threshold (5.0).\n"
     ]
    },
    {
     "data": {
      "application/vnd.jupyter.widget-view+json": {
       "model_id": "613247ce26e444fbbfe6e40a4ae9a617",
       "version_major": 2,
       "version_minor": 0
      },
      "text/plain": [
       "(pid=2037) - split(4, equal=True) 1:   0%|                                                                    …"
      ]
     },
     "metadata": {},
     "output_type": "display_data"
    },
    {
     "data": {
      "application/vnd.jupyter.widget-view+json": {
       "model_id": "303056b3c95f463c93325e7a4ba4f87c",
       "version_major": 2,
       "version_minor": 0
      },
      "text/plain": [
       "(pid=2037) Running 0:   0%|                                                                                   …"
      ]
     },
     "metadata": {},
     "output_type": "display_data"
    },
    {
     "name": "stderr",
     "output_type": "stream",
     "text": [
      "2024-07-11 23:16:52,485\tWARNING experiment_state.py:205 -- Experiment state snapshotting has been triggered multiple times in the last 5.0 seconds. A snapshot is forced if `CheckpointConfig(num_to_keep)` is set, and a trial has checkpointed >= `num_to_keep` times since the last snapshot.\n",
      "You may want to consider increasing the `CheckpointConfig(num_to_keep)` or decreasing the frequency of saving checkpoints.\n",
      "You can suppress this error by setting the environment variable TUNE_WARN_EXCESSIVE_EXPERIMENT_CHECKPOINT_SYNC_THRESHOLD_S to a smaller value than the current threshold (5.0).\n"
     ]
    },
    {
     "data": {
      "application/vnd.jupyter.widget-view+json": {
       "model_id": "f88c62a7c77b4e3cb546b1c1a77dc540",
       "version_major": 2,
       "version_minor": 0
      },
      "text/plain": [
       "(pid=2037) - split(4, equal=True) 1:   0%|                                                                    …"
      ]
     },
     "metadata": {},
     "output_type": "display_data"
    },
    {
     "data": {
      "application/vnd.jupyter.widget-view+json": {
       "model_id": "7156cc486313489f8f0b97d5ad853135",
       "version_major": 2,
       "version_minor": 0
      },
      "text/plain": [
       "(pid=2037) Running 0:   0%|                                                                                   …"
      ]
     },
     "metadata": {},
     "output_type": "display_data"
    },
    {
     "name": "stderr",
     "output_type": "stream",
     "text": [
      "2024-07-11 23:16:52,667\tWARNING experiment_state.py:205 -- Experiment state snapshotting has been triggered multiple times in the last 5.0 seconds. A snapshot is forced if `CheckpointConfig(num_to_keep)` is set, and a trial has checkpointed >= `num_to_keep` times since the last snapshot.\n",
      "You may want to consider increasing the `CheckpointConfig(num_to_keep)` or decreasing the frequency of saving checkpoints.\n",
      "You can suppress this error by setting the environment variable TUNE_WARN_EXCESSIVE_EXPERIMENT_CHECKPOINT_SYNC_THRESHOLD_S to a smaller value than the current threshold (5.0).\n"
     ]
    },
    {
     "data": {
      "application/vnd.jupyter.widget-view+json": {
       "model_id": "601ac4feed3749e59add5ddb346c4183",
       "version_major": 2,
       "version_minor": 0
      },
      "text/plain": [
       "(pid=2037) - split(4, equal=True) 1:   0%|                                                                    …"
      ]
     },
     "metadata": {},
     "output_type": "display_data"
    },
    {
     "data": {
      "application/vnd.jupyter.widget-view+json": {
       "model_id": "de8a560abbf64e809ef4575bd5bd55cc",
       "version_major": 2,
       "version_minor": 0
      },
      "text/plain": [
       "(pid=2037) Running 0:   0%|                                                                                   …"
      ]
     },
     "metadata": {},
     "output_type": "display_data"
    },
    {
     "name": "stderr",
     "output_type": "stream",
     "text": [
      "2024-07-11 23:16:52,847\tWARNING experiment_state.py:205 -- Experiment state snapshotting has been triggered multiple times in the last 5.0 seconds. A snapshot is forced if `CheckpointConfig(num_to_keep)` is set, and a trial has checkpointed >= `num_to_keep` times since the last snapshot.\n",
      "You may want to consider increasing the `CheckpointConfig(num_to_keep)` or decreasing the frequency of saving checkpoints.\n",
      "You can suppress this error by setting the environment variable TUNE_WARN_EXCESSIVE_EXPERIMENT_CHECKPOINT_SYNC_THRESHOLD_S to a smaller value than the current threshold (5.0).\n"
     ]
    },
    {
     "data": {
      "application/vnd.jupyter.widget-view+json": {
       "model_id": "14b42b2d0d954d2b885bf6470bb1c44c",
       "version_major": 2,
       "version_minor": 0
      },
      "text/plain": [
       "(pid=2037) - split(4, equal=True) 1:   0%|                                                                    …"
      ]
     },
     "metadata": {},
     "output_type": "display_data"
    },
    {
     "data": {
      "application/vnd.jupyter.widget-view+json": {
       "model_id": "2c10ea09cb014d439a4fbf5324112e0b",
       "version_major": 2,
       "version_minor": 0
      },
      "text/plain": [
       "(pid=2037) Running 0:   0%|                                                                                   …"
      ]
     },
     "metadata": {},
     "output_type": "display_data"
    },
    {
     "name": "stderr",
     "output_type": "stream",
     "text": [
      "2024-07-11 23:16:53,017\tWARNING experiment_state.py:205 -- Experiment state snapshotting has been triggered multiple times in the last 5.0 seconds. A snapshot is forced if `CheckpointConfig(num_to_keep)` is set, and a trial has checkpointed >= `num_to_keep` times since the last snapshot.\n",
      "You may want to consider increasing the `CheckpointConfig(num_to_keep)` or decreasing the frequency of saving checkpoints.\n",
      "You can suppress this error by setting the environment variable TUNE_WARN_EXCESSIVE_EXPERIMENT_CHECKPOINT_SYNC_THRESHOLD_S to a smaller value than the current threshold (5.0).\n"
     ]
    },
    {
     "data": {
      "application/vnd.jupyter.widget-view+json": {
       "model_id": "c39c81e847264c4a96efd80bbebefbad",
       "version_major": 2,
       "version_minor": 0
      },
      "text/plain": [
       "(pid=2037) - split(4, equal=True) 1:   0%|                                                                    …"
      ]
     },
     "metadata": {},
     "output_type": "display_data"
    },
    {
     "data": {
      "application/vnd.jupyter.widget-view+json": {
       "model_id": "f04cfd5bb19f4dd7b006654b4a583f39",
       "version_major": 2,
       "version_minor": 0
      },
      "text/plain": [
       "(pid=2037) Running 0:   0%|                                                                                   …"
      ]
     },
     "metadata": {},
     "output_type": "display_data"
    },
    {
     "name": "stderr",
     "output_type": "stream",
     "text": [
      "2024-07-11 23:16:53,189\tWARNING experiment_state.py:205 -- Experiment state snapshotting has been triggered multiple times in the last 5.0 seconds. A snapshot is forced if `CheckpointConfig(num_to_keep)` is set, and a trial has checkpointed >= `num_to_keep` times since the last snapshot.\n",
      "You may want to consider increasing the `CheckpointConfig(num_to_keep)` or decreasing the frequency of saving checkpoints.\n",
      "You can suppress this error by setting the environment variable TUNE_WARN_EXCESSIVE_EXPERIMENT_CHECKPOINT_SYNC_THRESHOLD_S to a smaller value than the current threshold (5.0).\n"
     ]
    },
    {
     "data": {
      "application/vnd.jupyter.widget-view+json": {
       "model_id": "269cf2c234304d229219855e6ce92d99",
       "version_major": 2,
       "version_minor": 0
      },
      "text/plain": [
       "(pid=2037) - split(4, equal=True) 1:   0%|                                                                    …"
      ]
     },
     "metadata": {},
     "output_type": "display_data"
    },
    {
     "data": {
      "application/vnd.jupyter.widget-view+json": {
       "model_id": "88b42b97064b4db8a557a4b5efceb49a",
       "version_major": 2,
       "version_minor": 0
      },
      "text/plain": [
       "(pid=2037) Running 0:   0%|                                                                                   …"
      ]
     },
     "metadata": {},
     "output_type": "display_data"
    },
    {
     "name": "stderr",
     "output_type": "stream",
     "text": [
      "2024-07-11 23:16:53,362\tWARNING experiment_state.py:205 -- Experiment state snapshotting has been triggered multiple times in the last 5.0 seconds. A snapshot is forced if `CheckpointConfig(num_to_keep)` is set, and a trial has checkpointed >= `num_to_keep` times since the last snapshot.\n",
      "You may want to consider increasing the `CheckpointConfig(num_to_keep)` or decreasing the frequency of saving checkpoints.\n",
      "You can suppress this error by setting the environment variable TUNE_WARN_EXCESSIVE_EXPERIMENT_CHECKPOINT_SYNC_THRESHOLD_S to a smaller value than the current threshold (5.0).\n"
     ]
    },
    {
     "data": {
      "application/vnd.jupyter.widget-view+json": {
       "model_id": "736976f488a44e70ad577330fe2e0240",
       "version_major": 2,
       "version_minor": 0
      },
      "text/plain": [
       "(pid=2037) - split(4, equal=True) 1:   0%|                                                                    …"
      ]
     },
     "metadata": {},
     "output_type": "display_data"
    },
    {
     "data": {
      "application/vnd.jupyter.widget-view+json": {
       "model_id": "38e03903a7e64cc4a400e6bf93c1459f",
       "version_major": 2,
       "version_minor": 0
      },
      "text/plain": [
       "(pid=2037) Running 0:   0%|                                                                                   …"
      ]
     },
     "metadata": {},
     "output_type": "display_data"
    },
    {
     "name": "stderr",
     "output_type": "stream",
     "text": [
      "2024-07-11 23:16:53,535\tWARNING experiment_state.py:205 -- Experiment state snapshotting has been triggered multiple times in the last 5.0 seconds. A snapshot is forced if `CheckpointConfig(num_to_keep)` is set, and a trial has checkpointed >= `num_to_keep` times since the last snapshot.\n",
      "You may want to consider increasing the `CheckpointConfig(num_to_keep)` or decreasing the frequency of saving checkpoints.\n",
      "You can suppress this error by setting the environment variable TUNE_WARN_EXCESSIVE_EXPERIMENT_CHECKPOINT_SYNC_THRESHOLD_S to a smaller value than the current threshold (5.0).\n"
     ]
    },
    {
     "data": {
      "application/vnd.jupyter.widget-view+json": {
       "model_id": "c366bb1ecc9046cf8f5e8f5410a8bf0a",
       "version_major": 2,
       "version_minor": 0
      },
      "text/plain": [
       "(pid=2037) - split(4, equal=True) 1:   0%|                                                                    …"
      ]
     },
     "metadata": {},
     "output_type": "display_data"
    },
    {
     "data": {
      "application/vnd.jupyter.widget-view+json": {
       "model_id": "e932fcb657324639bcb084ecb05a8f10",
       "version_major": 2,
       "version_minor": 0
      },
      "text/plain": [
       "(pid=2037) Running 0:   0%|                                                                                   …"
      ]
     },
     "metadata": {},
     "output_type": "display_data"
    },
    {
     "name": "stderr",
     "output_type": "stream",
     "text": [
      "2024-07-11 23:16:53,707\tWARNING experiment_state.py:205 -- Experiment state snapshotting has been triggered multiple times in the last 5.0 seconds. A snapshot is forced if `CheckpointConfig(num_to_keep)` is set, and a trial has checkpointed >= `num_to_keep` times since the last snapshot.\n",
      "You may want to consider increasing the `CheckpointConfig(num_to_keep)` or decreasing the frequency of saving checkpoints.\n",
      "You can suppress this error by setting the environment variable TUNE_WARN_EXCESSIVE_EXPERIMENT_CHECKPOINT_SYNC_THRESHOLD_S to a smaller value than the current threshold (5.0).\n"
     ]
    },
    {
     "data": {
      "application/vnd.jupyter.widget-view+json": {
       "model_id": "c7ad52b4ad8346a9aaf3a9457bc2525a",
       "version_major": 2,
       "version_minor": 0
      },
      "text/plain": [
       "(pid=2037) - split(4, equal=True) 1:   0%|                                                                    …"
      ]
     },
     "metadata": {},
     "output_type": "display_data"
    },
    {
     "data": {
      "application/vnd.jupyter.widget-view+json": {
       "model_id": "09f0f99dbcca42c2b4209a7128105d7b",
       "version_major": 2,
       "version_minor": 0
      },
      "text/plain": [
       "(pid=2037) Running 0:   0%|                                                                                   …"
      ]
     },
     "metadata": {},
     "output_type": "display_data"
    },
    {
     "name": "stderr",
     "output_type": "stream",
     "text": [
      "2024-07-11 23:16:53,884\tWARNING experiment_state.py:205 -- Experiment state snapshotting has been triggered multiple times in the last 5.0 seconds. A snapshot is forced if `CheckpointConfig(num_to_keep)` is set, and a trial has checkpointed >= `num_to_keep` times since the last snapshot.\n",
      "You may want to consider increasing the `CheckpointConfig(num_to_keep)` or decreasing the frequency of saving checkpoints.\n",
      "You can suppress this error by setting the environment variable TUNE_WARN_EXCESSIVE_EXPERIMENT_CHECKPOINT_SYNC_THRESHOLD_S to a smaller value than the current threshold (5.0).\n"
     ]
    },
    {
     "data": {
      "application/vnd.jupyter.widget-view+json": {
       "model_id": "aadece8428474cae94a631938fafa52a",
       "version_major": 2,
       "version_minor": 0
      },
      "text/plain": [
       "(pid=2037) - split(4, equal=True) 1:   0%|                                                                    …"
      ]
     },
     "metadata": {},
     "output_type": "display_data"
    },
    {
     "data": {
      "application/vnd.jupyter.widget-view+json": {
       "model_id": "50df8d92d36147608a767756cb4fa3e7",
       "version_major": 2,
       "version_minor": 0
      },
      "text/plain": [
       "(pid=2037) Running 0:   0%|                                                                                   …"
      ]
     },
     "metadata": {},
     "output_type": "display_data"
    },
    {
     "name": "stderr",
     "output_type": "stream",
     "text": [
      "2024-07-11 23:16:54,055\tWARNING experiment_state.py:205 -- Experiment state snapshotting has been triggered multiple times in the last 5.0 seconds. A snapshot is forced if `CheckpointConfig(num_to_keep)` is set, and a trial has checkpointed >= `num_to_keep` times since the last snapshot.\n",
      "You may want to consider increasing the `CheckpointConfig(num_to_keep)` or decreasing the frequency of saving checkpoints.\n",
      "You can suppress this error by setting the environment variable TUNE_WARN_EXCESSIVE_EXPERIMENT_CHECKPOINT_SYNC_THRESHOLD_S to a smaller value than the current threshold (5.0).\n"
     ]
    },
    {
     "data": {
      "application/vnd.jupyter.widget-view+json": {
       "model_id": "c65d366b7a7648968f92aaad6ddc8904",
       "version_major": 2,
       "version_minor": 0
      },
      "text/plain": [
       "(pid=2037) - split(4, equal=True) 1:   0%|                                                                    …"
      ]
     },
     "metadata": {},
     "output_type": "display_data"
    },
    {
     "data": {
      "application/vnd.jupyter.widget-view+json": {
       "model_id": "eedce3d1477d4aafa5819fe403f87b6b",
       "version_major": 2,
       "version_minor": 0
      },
      "text/plain": [
       "(pid=2037) Running 0:   0%|                                                                                   …"
      ]
     },
     "metadata": {},
     "output_type": "display_data"
    },
    {
     "name": "stderr",
     "output_type": "stream",
     "text": [
      "2024-07-11 23:16:54,222\tWARNING experiment_state.py:205 -- Experiment state snapshotting has been triggered multiple times in the last 5.0 seconds. A snapshot is forced if `CheckpointConfig(num_to_keep)` is set, and a trial has checkpointed >= `num_to_keep` times since the last snapshot.\n",
      "You may want to consider increasing the `CheckpointConfig(num_to_keep)` or decreasing the frequency of saving checkpoints.\n",
      "You can suppress this error by setting the environment variable TUNE_WARN_EXCESSIVE_EXPERIMENT_CHECKPOINT_SYNC_THRESHOLD_S to a smaller value than the current threshold (5.0).\n"
     ]
    },
    {
     "data": {
      "application/vnd.jupyter.widget-view+json": {
       "model_id": "506b0a0d5481428f96eae2aa6373aeff",
       "version_major": 2,
       "version_minor": 0
      },
      "text/plain": [
       "(pid=2037) - split(4, equal=True) 1:   0%|                                                                    …"
      ]
     },
     "metadata": {},
     "output_type": "display_data"
    },
    {
     "data": {
      "application/vnd.jupyter.widget-view+json": {
       "model_id": "b98a1a6096d84c748c9aecd17171a103",
       "version_major": 2,
       "version_minor": 0
      },
      "text/plain": [
       "(pid=2037) Running 0:   0%|                                                                                   …"
      ]
     },
     "metadata": {},
     "output_type": "display_data"
    },
    {
     "name": "stderr",
     "output_type": "stream",
     "text": [
      "2024-07-11 23:16:54,394\tWARNING experiment_state.py:205 -- Experiment state snapshotting has been triggered multiple times in the last 5.0 seconds. A snapshot is forced if `CheckpointConfig(num_to_keep)` is set, and a trial has checkpointed >= `num_to_keep` times since the last snapshot.\n",
      "You may want to consider increasing the `CheckpointConfig(num_to_keep)` or decreasing the frequency of saving checkpoints.\n",
      "You can suppress this error by setting the environment variable TUNE_WARN_EXCESSIVE_EXPERIMENT_CHECKPOINT_SYNC_THRESHOLD_S to a smaller value than the current threshold (5.0).\n"
     ]
    },
    {
     "data": {
      "application/vnd.jupyter.widget-view+json": {
       "model_id": "bd45b32ba4074f3bb8167d32a8cffc0d",
       "version_major": 2,
       "version_minor": 0
      },
      "text/plain": [
       "(pid=2037) - split(4, equal=True) 1:   0%|                                                                    …"
      ]
     },
     "metadata": {},
     "output_type": "display_data"
    },
    {
     "data": {
      "application/vnd.jupyter.widget-view+json": {
       "model_id": "6a4ed0ddd9d54ed8836458c904d8a175",
       "version_major": 2,
       "version_minor": 0
      },
      "text/plain": [
       "(pid=2037) Running 0:   0%|                                                                                   …"
      ]
     },
     "metadata": {},
     "output_type": "display_data"
    },
    {
     "name": "stderr",
     "output_type": "stream",
     "text": [
      "2024-07-11 23:16:54,577\tWARNING experiment_state.py:205 -- Experiment state snapshotting has been triggered multiple times in the last 5.0 seconds. A snapshot is forced if `CheckpointConfig(num_to_keep)` is set, and a trial has checkpointed >= `num_to_keep` times since the last snapshot.\n",
      "You may want to consider increasing the `CheckpointConfig(num_to_keep)` or decreasing the frequency of saving checkpoints.\n",
      "You can suppress this error by setting the environment variable TUNE_WARN_EXCESSIVE_EXPERIMENT_CHECKPOINT_SYNC_THRESHOLD_S to a smaller value than the current threshold (5.0).\n"
     ]
    },
    {
     "data": {
      "application/vnd.jupyter.widget-view+json": {
       "model_id": "a4252506bf43441bbe4cdadfa5b4babd",
       "version_major": 2,
       "version_minor": 0
      },
      "text/plain": [
       "(pid=2037) - split(4, equal=True) 1:   0%|                                                                    …"
      ]
     },
     "metadata": {},
     "output_type": "display_data"
    },
    {
     "data": {
      "application/vnd.jupyter.widget-view+json": {
       "model_id": "9d734b4b232f4a59b9bc5406960a823b",
       "version_major": 2,
       "version_minor": 0
      },
      "text/plain": [
       "(pid=2037) Running 0:   0%|                                                                                   …"
      ]
     },
     "metadata": {},
     "output_type": "display_data"
    },
    {
     "name": "stderr",
     "output_type": "stream",
     "text": [
      "2024-07-11 23:16:54,747\tWARNING experiment_state.py:205 -- Experiment state snapshotting has been triggered multiple times in the last 5.0 seconds. A snapshot is forced if `CheckpointConfig(num_to_keep)` is set, and a trial has checkpointed >= `num_to_keep` times since the last snapshot.\n",
      "You may want to consider increasing the `CheckpointConfig(num_to_keep)` or decreasing the frequency of saving checkpoints.\n",
      "You can suppress this error by setting the environment variable TUNE_WARN_EXCESSIVE_EXPERIMENT_CHECKPOINT_SYNC_THRESHOLD_S to a smaller value than the current threshold (5.0).\n"
     ]
    },
    {
     "data": {
      "application/vnd.jupyter.widget-view+json": {
       "model_id": "a866cdce74ac40df84616957711e1029",
       "version_major": 2,
       "version_minor": 0
      },
      "text/plain": [
       "(pid=2037) - split(4, equal=True) 1:   0%|                                                                    …"
      ]
     },
     "metadata": {},
     "output_type": "display_data"
    },
    {
     "data": {
      "application/vnd.jupyter.widget-view+json": {
       "model_id": "259f9b15c643431e9de85d02bae3f6b4",
       "version_major": 2,
       "version_minor": 0
      },
      "text/plain": [
       "(pid=2037) Running 0:   0%|                                                                                   …"
      ]
     },
     "metadata": {},
     "output_type": "display_data"
    },
    {
     "name": "stderr",
     "output_type": "stream",
     "text": [
      "2024-07-11 23:16:54,918\tWARNING experiment_state.py:205 -- Experiment state snapshotting has been triggered multiple times in the last 5.0 seconds. A snapshot is forced if `CheckpointConfig(num_to_keep)` is set, and a trial has checkpointed >= `num_to_keep` times since the last snapshot.\n",
      "You may want to consider increasing the `CheckpointConfig(num_to_keep)` or decreasing the frequency of saving checkpoints.\n",
      "You can suppress this error by setting the environment variable TUNE_WARN_EXCESSIVE_EXPERIMENT_CHECKPOINT_SYNC_THRESHOLD_S to a smaller value than the current threshold (5.0).\n"
     ]
    },
    {
     "data": {
      "application/vnd.jupyter.widget-view+json": {
       "model_id": "1ec71a1dbaea4847b677368009fce0cc",
       "version_major": 2,
       "version_minor": 0
      },
      "text/plain": [
       "(pid=2037) - split(4, equal=True) 1:   0%|                                                                    …"
      ]
     },
     "metadata": {},
     "output_type": "display_data"
    },
    {
     "data": {
      "application/vnd.jupyter.widget-view+json": {
       "model_id": "a9e22ee1ad33410097a8e865df1a3446",
       "version_major": 2,
       "version_minor": 0
      },
      "text/plain": [
       "(pid=2037) Running 0:   0%|                                                                                   …"
      ]
     },
     "metadata": {},
     "output_type": "display_data"
    },
    {
     "name": "stderr",
     "output_type": "stream",
     "text": [
      "2024-07-11 23:16:55,087\tWARNING experiment_state.py:205 -- Experiment state snapshotting has been triggered multiple times in the last 5.0 seconds. A snapshot is forced if `CheckpointConfig(num_to_keep)` is set, and a trial has checkpointed >= `num_to_keep` times since the last snapshot.\n",
      "You may want to consider increasing the `CheckpointConfig(num_to_keep)` or decreasing the frequency of saving checkpoints.\n",
      "You can suppress this error by setting the environment variable TUNE_WARN_EXCESSIVE_EXPERIMENT_CHECKPOINT_SYNC_THRESHOLD_S to a smaller value than the current threshold (5.0).\n"
     ]
    },
    {
     "data": {
      "application/vnd.jupyter.widget-view+json": {
       "model_id": "c3c7c05848934eacb05ec92f9bf03995",
       "version_major": 2,
       "version_minor": 0
      },
      "text/plain": [
       "(pid=2037) - split(4, equal=True) 1:   0%|                                                                    …"
      ]
     },
     "metadata": {},
     "output_type": "display_data"
    },
    {
     "data": {
      "application/vnd.jupyter.widget-view+json": {
       "model_id": "4493ec2280b5414eaa046d0e763131fb",
       "version_major": 2,
       "version_minor": 0
      },
      "text/plain": [
       "(pid=2037) Running 0:   0%|                                                                                   …"
      ]
     },
     "metadata": {},
     "output_type": "display_data"
    },
    {
     "name": "stderr",
     "output_type": "stream",
     "text": [
      "2024-07-11 23:16:55,271\tWARNING experiment_state.py:205 -- Experiment state snapshotting has been triggered multiple times in the last 5.0 seconds. A snapshot is forced if `CheckpointConfig(num_to_keep)` is set, and a trial has checkpointed >= `num_to_keep` times since the last snapshot.\n",
      "You may want to consider increasing the `CheckpointConfig(num_to_keep)` or decreasing the frequency of saving checkpoints.\n",
      "You can suppress this error by setting the environment variable TUNE_WARN_EXCESSIVE_EXPERIMENT_CHECKPOINT_SYNC_THRESHOLD_S to a smaller value than the current threshold (5.0).\n"
     ]
    },
    {
     "data": {
      "application/vnd.jupyter.widget-view+json": {
       "model_id": "807971a7e6694e528bde320d2c941845",
       "version_major": 2,
       "version_minor": 0
      },
      "text/plain": [
       "(pid=2037) - split(4, equal=True) 1:   0%|                                                                    …"
      ]
     },
     "metadata": {},
     "output_type": "display_data"
    },
    {
     "data": {
      "application/vnd.jupyter.widget-view+json": {
       "model_id": "e5595722a1424667b8ba95fa117287af",
       "version_major": 2,
       "version_minor": 0
      },
      "text/plain": [
       "(pid=2037) Running 0:   0%|                                                                                   …"
      ]
     },
     "metadata": {},
     "output_type": "display_data"
    },
    {
     "name": "stderr",
     "output_type": "stream",
     "text": [
      "2024-07-11 23:16:55,446\tWARNING experiment_state.py:205 -- Experiment state snapshotting has been triggered multiple times in the last 5.0 seconds. A snapshot is forced if `CheckpointConfig(num_to_keep)` is set, and a trial has checkpointed >= `num_to_keep` times since the last snapshot.\n",
      "You may want to consider increasing the `CheckpointConfig(num_to_keep)` or decreasing the frequency of saving checkpoints.\n",
      "You can suppress this error by setting the environment variable TUNE_WARN_EXCESSIVE_EXPERIMENT_CHECKPOINT_SYNC_THRESHOLD_S to a smaller value than the current threshold (5.0).\n",
      "2024-07-11 23:16:56,489\tWARNING experiment_state.py:205 -- Experiment state snapshotting has been triggered multiple times in the last 5.0 seconds. A snapshot is forced if `CheckpointConfig(num_to_keep)` is set, and a trial has checkpointed >= `num_to_keep` times since the last snapshot.\n",
      "You may want to consider increasing the `CheckpointConfig(num_to_keep)` or decreasing the frequency of saving checkpoints.\n",
      "You can suppress this error by setting the environment variable TUNE_WARN_EXCESSIVE_EXPERIMENT_CHECKPOINT_SYNC_THRESHOLD_S to a smaller value than the current threshold (5.0).\n",
      "2024-07-11 23:16:56,490\tINFO tune.py:1016 -- Wrote the latest version of all result files and experiment state to '/Users/farceo/ray_results/TorchTrainer_2024-07-11_23-16-45' in 0.0042s.\n",
      "2024-07-11 23:16:56,494\tINFO tune.py:1048 -- Total run time: 10.89 seconds (10.87 seconds for the tuning loop).\n"
     ]
    }
   ],
   "source": [
    "# Start training\n",
    "result = trainer.fit()\n",
    "last_checkpoint = result.checkpoint"
   ]
  },
  {
   "cell_type": "code",
   "execution_count": 8,
   "id": "0301d3c4-0a6f-4ebc-bb26-37ac462ef410",
   "metadata": {},
   "outputs": [
    {
     "data": {
      "text/plain": [
       "{'loss': 5712591192064.0,\n",
       " 'timestamp': 1720754215,\n",
       " 'checkpoint_dir_name': 'checkpoint_000019',\n",
       " 'should_checkpoint': True,\n",
       " 'done': True,\n",
       " 'training_iteration': 20,\n",
       " 'trial_id': '2b370_00000',\n",
       " 'date': '2024-07-11_23-16-55',\n",
       " 'time_this_iter_s': 0.17356491088867188,\n",
       " 'time_total_s': 7.395307779312134,\n",
       " 'pid': 2010,\n",
       " 'hostname': 'farceo-mac',\n",
       " 'node_ip': '127.0.0.1',\n",
       " 'config': {'train_loop_config': {'num_epochs': 20,\n",
       "   'lr': 0.01,\n",
       "   'batch_size': 32}},\n",
       " 'time_since_restore': 7.395307779312134,\n",
       " 'iterations_since_restore': 20,\n",
       " 'experiment_tag': '0'}"
      ]
     },
     "execution_count": 8,
     "metadata": {},
     "output_type": "execute_result"
    }
   ],
   "source": [
    "result.metrics"
   ]
  },
  {
   "cell_type": "markdown",
   "id": "06bba48f-4780-4c1e-b724-14df6b05f3b2",
   "metadata": {},
   "source": [
    "# Scoring new data"
   ]
  },
  {
   "cell_type": "code",
   "execution_count": 15,
   "id": "3415848d-c0a5-413c-ad9e-8a2a7bf92e0f",
   "metadata": {},
   "outputs": [],
   "source": [
    "def score_model(checkpoint_path, data_points):\n",
    "    model_state_dict = torch.load(checkpoint_path)[\"model_state_dict\"]\n",
    "    model = NeuralNetwork()\n",
    "    model.load_state_dict(model_state_dict)\n",
    "    model.eval()  # Set the model to evaluation mode\n",
    "    \n",
    "    with torch.no_grad():  # Disable gradient calculation for inference\n",
    "        inputs = torch.tensor([data_points], dtype=torch.float).reshape(-1, 1)\n",
    "        predictions = model(inputs)\n",
    "        return predictions.numpy()"
   ]
  },
  {
   "cell_type": "code",
   "execution_count": 28,
   "id": "7506f76e-13b2-479f-bf1d-c817a7becf5d",
   "metadata": {
    "scrolled": true
   },
   "outputs": [
    {
     "name": "stderr",
     "output_type": "stream",
     "text": [
      "/var/folders/v0/fgw7yz9j5ml1vxvq6j0rqf9w0000gn/T/ipykernel_1453/354454316.py:8: UserWarning: Creating a tensor from a list of numpy.ndarrays is extremely slow. Please consider converting the list to a single numpy.ndarray with numpy.array() before converting to a tensor. (Triggered internally at /Users/runner/work/pytorch/pytorch/pytorch/torch/csrc/utils/tensor_new.cpp:277.)\n",
      "  inputs = torch.tensor([data_points], dtype=torch.float).reshape(-1, 1)\n"
     ]
    }
   ],
   "source": [
    "checkpoint_path = open(os.path.join(last_checkpoint.path, \"model.pt\"), 'rb')\n",
    "\n",
    "predictions = score_model(checkpoint_path, train_dataset.to_pandas()['input'].values)"
   ]
  },
  {
   "cell_type": "code",
   "execution_count": 29,
   "id": "0e5e9850-0ecf-4e0f-8853-fa32be6f2b6d",
   "metadata": {},
   "outputs": [
    {
     "data": {
      "text/plain": [
       "array([[-2338410.],\n",
       "       [-2338410.],\n",
       "       [-2338410.],\n",
       "       ...,\n",
       "       [-2338410.],\n",
       "       [-2338410.],\n",
       "       [-2338410.]], dtype=float32)"
      ]
     },
     "execution_count": 29,
     "metadata": {},
     "output_type": "execute_result"
    }
   ],
   "source": [
    "predictions"
   ]
  },
  {
   "cell_type": "markdown",
   "id": "18127431-ee8e-4a79-baa5-a7f3ddd0ae42",
   "metadata": {},
   "source": [
    "# End"
   ]
  }
 ],
 "metadata": {
  "kernelspec": {
   "display_name": "Python 3 (ipykernel)",
   "language": "python",
   "name": "python3"
  },
  "language_info": {
   "codemirror_mode": {
    "name": "ipython",
    "version": 3
   },
   "file_extension": ".py",
   "mimetype": "text/x-python",
   "name": "python",
   "nbconvert_exporter": "python",
   "pygments_lexer": "ipython3",
   "version": "3.10.14"
  }
 },
 "nbformat": 4,
 "nbformat_minor": 5
}
